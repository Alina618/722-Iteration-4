{
 "cells": [
  {
   "cell_type": "markdown",
   "id": "99fe785f",
   "metadata": {},
   "source": [
    "01-BU\n",
    "Flight passanger satisfaction"
   ]
  },
  {
   "cell_type": "code",
   "execution_count": 1,
   "id": "e9f343f0",
   "metadata": {
    "scrolled": true
   },
   "outputs": [
    {
     "name": "stderr",
     "output_type": "stream",
     "text": [
      "WARNING: An illegal reflective access operation has occurred\n",
      "WARNING: Illegal reflective access by org.apache.spark.unsafe.Platform (file:/home/ubuntu/spark-3.2.1-bin-hadoop2.7/jars/spark-unsafe_2.12-3.2.1.jar) to constructor java.nio.DirectByteBuffer(long,int)\n",
      "WARNING: Please consider reporting this to the maintainers of org.apache.spark.unsafe.Platform\n",
      "WARNING: Use --illegal-access=warn to enable warnings of further illegal reflective access operations\n",
      "WARNING: All illegal access operations will be denied in a future release\n",
      "Using Spark's default log4j profile: org/apache/spark/log4j-defaults.properties\n",
      "Setting default log level to \"WARN\".\n",
      "To adjust logging level use sc.setLogLevel(newLevel). For SparkR, use setLogLevel(newLevel).\n",
      "24/05/13 02:59:46 WARN NativeCodeLoader: Unable to load native-hadoop library for your platform... using builtin-java classes where applicable\n"
     ]
    }
   ],
   "source": [
    "import findspark\n",
    "findspark.init('/home/ubuntu/spark-3.2.1-bin-hadoop2.7')\n",
    "import pyspark\n",
    "from pyspark.sql import SparkSession\n",
    "spark = SparkSession.builder.appName('Flight passangers satisfaction').getOrCreate()"
   ]
  },
  {
   "cell_type": "markdown",
   "id": "9fc00aa6",
   "metadata": {},
   "source": [
    "02-DU"
   ]
  },
  {
   "cell_type": "code",
   "execution_count": 10,
   "id": "220dc4f8",
   "metadata": {},
   "outputs": [
    {
     "name": "stderr",
     "output_type": "stream",
     "text": [
      "                                                                                \r"
     ]
    }
   ],
   "source": [
    "df = spark.read.csv('airline_passenger satisfaction raw.csv',header=True, inferSchema=True, encoding='ISO-8859-1')"
   ]
  },
  {
   "cell_type": "markdown",
   "id": "2f0d9bd0",
   "metadata": {},
   "source": [
    "2.2 Describe the data"
   ]
  },
  {
   "cell_type": "code",
   "execution_count": 12,
   "id": "1a051aff",
   "metadata": {},
   "outputs": [
    {
     "name": "stdout",
     "output_type": "stream",
     "text": [
      "+---+--------------+------+---+-------------+--------------+----------+---------------+---------------+-------------+--------------------------------------+----------------------+----------------+---------------+-------------+----------------+------------+----------------+-----------+--------------+-----------------+----------------------+-----------------------+----------------+--------------------+\n",
      "| ID|      Aircraft|Gender|Age|Customer Type|Type of Travel|Cabin Type|Flight Distance|Departure Delay|Arrival Delay|Departure and Arrival Time Convenience|Ease of Online Booking|Check-in Service|Online Boarding|Gate Location|On-board Service|Seat Comfort|Leg Room Service|Cleanliness|Food and Drink|In-flight Service|In-flight Wifi Service|In-flight Entertainment|Baggage Handling|        Satisfaction|\n",
      "+---+--------------+------+---+-------------+--------------+----------+---------------+---------------+-------------+--------------------------------------+----------------------+----------------+---------------+-------------+----------------+------------+----------------+-----------+--------------+-----------------+----------------------+-----------------------+----------------+--------------------+\n",
      "|  1|          null|  Male| 48|   First-time|      Business|  Business|            821|              2|            5|                                     3|                     3|               4|              3|            3|               3|           5|               2|          5|             5|                5|                     3|                      5|               5|Neutral or Dissat...|\n",
      "|  2|          E120|Female| 35|    Returning|      Business|  Business|            821|             26|           39|                                     2|                     2|               3|              5|            2|               5|           4|               5|          5|             3|                5|                     2|                      5|               5|           Satisfied|\n",
      "|  3|  Embraer E120|  Male| 41|    Returning|      Business|  Business|            853|              0|            0|                                     4|                     4|               4|              5|            4|               3|           5|               3|          5|             5|                3|                     4|                      3|               3|           Satisfied|\n",
      "|  4|          null|  Male| 50|    Returning|      Business|  Business|           1905|              0|            0|                                     2|                     2|               3|              4|            2|               5|           5|               5|          4|             4|                5|                     2|                      5|               5|           Satisfied|\n",
      "|  5|          null|Female| 49|    Returning|      Business|  Business|           3470|              0|            1|                                     3|                     3|               3|              5|            3|               3|           4|               4|          5|             4|                3|                     3|                      3|               3|           Satisfied|\n",
      "|  6|          null|  Male| 43|    Returning|      Business|  Business|           3788|              0|            0|                                     4|                     4|               3|              5|            4|               4|           4|            null|          3|             3|                4|                     4|                      4|               4|           Satisfied|\n",
      "|  7|          null|  Male| 43|    Returning|      Business|  Business|           1963|              0|            0|                                     3|                     3|               4|              4|            3|               5|           5|               5|          4|             5|                5|                     3|                      5|               5|           Satisfied|\n",
      "|  8|       Dornier|Female| 60|    Returning|      Business|  Business|            853|              0|            3|                                     3|                     4|               3|              4|            4|               3|           4|               4|          4|             4|                3|                     4|                      3|               3|           Satisfied|\n",
      "|  9|       Dornier|  Male| 50|    Returning|      Business|  Business|           2607|              0|            0|                                     1|                     1|               3|              2|            1|               4|           3|               4|          3|             3|                4|                     4|                      4|               4|Neutral or Dissat...|\n",
      "| 10| BAe Jetstream|Female| 38|    Returning|      Business|  Business|           2822|             13|            0|                                     2|                     5|               3|              5|            2|               5|           4|               5|          4|             2|                5|                     2|                      5|               5|           Satisfied|\n",
      "| 11|          null|Female| 28|   First-time|      Business|  Business|            821|              0|            5|                                     1|                     1|               3|              1|            3|               2|           2|               5|          2|             2|                4|                     1|                      2|               3|Neutral or Dissat...|\n",
      "| 12|          null|Female| 27|   First-time|      Business|  Business|            421|             20|           21|                                     2|                     2|               1|              2|            4|               2|           2|               5|          1|             1|                3|                     1|                      1|               4|Neutral or Dissat...|\n",
      "| 13|        CR 900|  Male| 24|   First-time|      Business|   Economy|            453|             16|           30|                                     2|                     2|               2|              2|            4|               2|           5|               4|          5|             5|                4|                     2|                      5|               4|Neutral or Dissat...|\n",
      "| 14|          null|  Male|  9|    Returning|      Personal|  Business|            853|             68|           76|                                     5|                     1|               5|              1|            2|               4|           5|               3|          5|             5|                5|                     1|                      5|               4|Neutral or Dissat...|\n",
      "| 15|Bombardier CRJ|  Male| 52|    Returning|      Personal|   Economy|            853|              0|            0|                                     4|                     2|               3|              2|            4|               3|           2|               3|          2|             2|                5|                     2|                      2|               5|Neutral or Dissat...|\n",
      "| 16|          null|  Male| 70|    Returning|      Personal|   Economy|            821|              0|            0|                                     5|                     2|               4|              2|            1|               4|           5|               2|          5|             5|                5|                     2|                      5|               4|Neutral or Dissat...|\n",
      "| 17|          null|Female| 48|    Returning|      Personal|   Economy|            821|              0|            0|                                     3|                     2|               5|              5|            3|               5|           1|               2|          2|             1|                5|                     2|                      5|               5|Neutral or Dissat...|\n",
      "| 18|          null|Female| 61|    Returning|      Personal|   Economy|            821|              0|            0|                                     5|                     2|               5|              1|            1|               5|           5|               2|          1|             4|                5|                     2|                      5|               5|Neutral or Dissat...|\n",
      "| 19|          null|Female| 11|    Returning|      Personal|   Economy|            853|              0|            0|                                     5|                     3|               5|              3|            2|               3|           5|               2|          5|             5|                5|                     3|                      5|               4|Neutral or Dissat...|\n",
      "| 20|          null|Female| 42|    Returning|      Personal|   Economy|            821|              4|            0|                                     3|                     3|               3|              3|            4|               1|           4|               3|          3|             1|                1|                     3|                      1|               1|Neutral or Dissat...|\n",
      "+---+--------------+------+---+-------------+--------------+----------+---------------+---------------+-------------+--------------------------------------+----------------------+----------------+---------------+-------------+----------------+------------+----------------+-----------+--------------+-----------------+----------------------+-----------------------+----------------+--------------------+\n",
      "only showing top 20 rows\n",
      "\n"
     ]
    },
    {
     "data": {
      "text/plain": [
       "['ID',\n",
       " 'Aircraft',\n",
       " 'Gender',\n",
       " 'Age',\n",
       " 'Customer Type',\n",
       " 'Type of Travel',\n",
       " 'Cabin Type',\n",
       " 'Flight Distance',\n",
       " 'Departure Delay',\n",
       " 'Arrival Delay',\n",
       " 'Departure and Arrival Time Convenience',\n",
       " 'Ease of Online Booking',\n",
       " 'Check-in Service',\n",
       " 'Online Boarding',\n",
       " 'Gate Location',\n",
       " 'On-board Service',\n",
       " 'Seat Comfort',\n",
       " 'Leg Room Service',\n",
       " 'Cleanliness',\n",
       " 'Food and Drink',\n",
       " 'In-flight Service',\n",
       " 'In-flight Wifi Service',\n",
       " 'In-flight Entertainment',\n",
       " 'Baggage Handling',\n",
       " 'Satisfaction']"
      ]
     },
     "execution_count": 12,
     "metadata": {},
     "output_type": "execute_result"
    }
   ],
   "source": [
    "df.show()\n",
    "df.columns"
   ]
  },
  {
   "cell_type": "code",
   "execution_count": 13,
   "id": "ef019484",
   "metadata": {},
   "outputs": [
    {
     "name": "stderr",
     "output_type": "stream",
     "text": [
      "[Stage 11:=============================>                            (1 + 1) / 2]\r"
     ]
    },
    {
     "name": "stdout",
     "output_type": "stream",
     "text": [
      "+-------+-----------------+--------+------+------------------+-------------+--------------+------------+------------------+------------------+------------------+--------------------------------------+----------------------+------------------+------------------+------------------+------------------+-----------------+------------------+------------------+------------------+------------------+----------------------+-----------------------+------------------+--------------------+\n",
      "|summary|               ID|Aircraft|Gender|               Age|Customer Type|Type of Travel|  Cabin Type|   Flight Distance|   Departure Delay|     Arrival Delay|Departure and Arrival Time Convenience|Ease of Online Booking|  Check-in Service|   Online Boarding|     Gate Location|  On-board Service|     Seat Comfort|  Leg Room Service|       Cleanliness|    Food and Drink| In-flight Service|In-flight Wifi Service|In-flight Entertainment|  Baggage Handling|        Satisfaction|\n",
      "+-------+-----------------+--------+------+------------------+-------------+--------------+------------+------------------+------------------+------------------+--------------------------------------+----------------------+------------------+------------------+------------------+------------------+-----------------+------------------+------------------+------------------+------------------+----------------------+-----------------------+------------------+--------------------+\n",
      "|  count|           129880|   36444|129880|            129880|       129880|        129880|      129880|            129880|            129876|            129480|                                129871|                129877|            129862|            129871|            129873|            129872|           129871|            129865|            129870|            129874|            129874|                129875|                 129879|            129877|              129880|\n",
      "|   mean|          64940.5|Infinity|  null| 39.42795657530028|         null|          null|        null|1190.3163920542038|14.713195663556007|15.090438677788075|                    3.0576187139546165|     2.756916159135182|3.3062173692073125|3.2526045075497994|2.9769159101583855| 3.383023284464704|3.441345642984192|3.3508412582297002|3.2863478863478863| 3.204798497004789| 3.642176263147358|    2.7286929740134744|      3.358094842122283|3.6320980620125196|                null|\n",
      "| stddev|37493.27081846377|     NaN|  null|15.119359950371651|         null|          null|        null|  997.452477326764| 38.07039443248041|38.465776886699246|                    1.5267231223906523|    1.4017303625635051|1.2662051583404064|1.3507326751521649|1.2785268766567313|1.2870915086849573|1.319304081292895|1.3162434605397826|1.3136717945748064|1.3299433207404727|1.1766871964620098|    1.3293575422222024|     1.3340380723788543|  1.18002468821604|                null|\n",
      "|    min|                1|        |Female|                 7|   First-time|      Business|    Business|                31|                 0|                 0|                                     0|                     0|                 0|                 0|                 0|                 0|                0|                 0|                 0|                 0|                 0|                     0|                      0|                 1|Neutral or Dissat...|\n",
      "|    max|           129880| wizzair|  Male|                85|    Returning|      Personal|Economy Plus|              4983|              1592|              1584|                                     5|                     5|                 5|                 5|                 5|                 5|                5|                 5|                 5|                 5|                 5|                     5|                      5|                 5|           Satisfied|\n",
      "+-------+-----------------+--------+------+------------------+-------------+--------------+------------+------------------+------------------+------------------+--------------------------------------+----------------------+------------------+------------------+------------------+------------------+-----------------+------------------+------------------+------------------+------------------+----------------------+-----------------------+------------------+--------------------+\n",
      "\n"
     ]
    },
    {
     "name": "stderr",
     "output_type": "stream",
     "text": [
      "\r",
      "                                                                                \r"
     ]
    }
   ],
   "source": [
    "df.describe().show()"
   ]
  },
  {
   "cell_type": "markdown",
   "id": "470f1fc5",
   "metadata": {},
   "source": [
    "2.3 Explore Data"
   ]
  },
  {
   "cell_type": "code",
   "execution_count": 15,
   "id": "28f21d54",
   "metadata": {},
   "outputs": [
    {
     "name": "stdout",
     "output_type": "stream",
     "text": [
      "root\n",
      " |-- ID: integer (nullable = true)\n",
      " |-- Aircraft: string (nullable = true)\n",
      " |-- Gender: string (nullable = true)\n",
      " |-- Age: integer (nullable = true)\n",
      " |-- Customer Type: string (nullable = true)\n",
      " |-- Type of Travel: string (nullable = true)\n",
      " |-- Cabin Type: string (nullable = true)\n",
      " |-- Flight Distance: integer (nullable = true)\n",
      " |-- Departure Delay: integer (nullable = true)\n",
      " |-- Arrival Delay: integer (nullable = true)\n",
      " |-- Departure and Arrival Time Convenience: integer (nullable = true)\n",
      " |-- Ease of Online Booking: integer (nullable = true)\n",
      " |-- Check-in Service: integer (nullable = true)\n",
      " |-- Online Boarding: integer (nullable = true)\n",
      " |-- Gate Location: integer (nullable = true)\n",
      " |-- On-board Service: integer (nullable = true)\n",
      " |-- Seat Comfort: integer (nullable = true)\n",
      " |-- Leg Room Service: integer (nullable = true)\n",
      " |-- Cleanliness: integer (nullable = true)\n",
      " |-- Food and Drink: integer (nullable = true)\n",
      " |-- In-flight Service: integer (nullable = true)\n",
      " |-- In-flight Wifi Service: integer (nullable = true)\n",
      " |-- In-flight Entertainment: integer (nullable = true)\n",
      " |-- Baggage Handling: integer (nullable = true)\n",
      " |-- Satisfaction: string (nullable = true)\n",
      "\n"
     ]
    },
    {
     "name": "stderr",
     "output_type": "stream",
     "text": [
      "[Stage 14:=============================>                            (1 + 1) / 2]\r"
     ]
    },
    {
     "name": "stdout",
     "output_type": "stream",
     "text": [
      "+-------+-----------------+--------+------+------------------+-------------+--------------+------------+------------------+------------------+------------------+--------------------------------------+----------------------+------------------+------------------+------------------+------------------+-----------------+------------------+------------------+------------------+------------------+----------------------+-----------------------+------------------+--------------------+\n",
      "|summary|               ID|Aircraft|Gender|               Age|Customer Type|Type of Travel|  Cabin Type|   Flight Distance|   Departure Delay|     Arrival Delay|Departure and Arrival Time Convenience|Ease of Online Booking|  Check-in Service|   Online Boarding|     Gate Location|  On-board Service|     Seat Comfort|  Leg Room Service|       Cleanliness|    Food and Drink| In-flight Service|In-flight Wifi Service|In-flight Entertainment|  Baggage Handling|        Satisfaction|\n",
      "+-------+-----------------+--------+------+------------------+-------------+--------------+------------+------------------+------------------+------------------+--------------------------------------+----------------------+------------------+------------------+------------------+------------------+-----------------+------------------+------------------+------------------+------------------+----------------------+-----------------------+------------------+--------------------+\n",
      "|  count|           129880|   36444|129880|            129880|       129880|        129880|      129880|            129880|            129876|            129480|                                129871|                129877|            129862|            129871|            129873|            129872|           129871|            129865|            129870|            129874|            129874|                129875|                 129879|            129877|              129880|\n",
      "|   mean|          64940.5|Infinity|  null| 39.42795657530028|         null|          null|        null|1190.3163920542038|14.713195663556007|15.090438677788075|                    3.0576187139546165|     2.756916159135182|3.3062173692073125|3.2526045075497994|2.9769159101583855| 3.383023284464704|3.441345642984192|3.3508412582297002|3.2863478863478863| 3.204798497004789| 3.642176263147358|    2.7286929740134744|      3.358094842122283|3.6320980620125196|                null|\n",
      "| stddev|37493.27081846377|     NaN|  null|15.119359950371651|         null|          null|        null|  997.452477326764| 38.07039443248041|38.465776886699246|                    1.5267231223906523|    1.4017303625635051|1.2662051583404064|1.3507326751521649|1.2785268766567313|1.2870915086849573|1.319304081292895|1.3162434605397826|1.3136717945748064|1.3299433207404727|1.1766871964620098|    1.3293575422222024|     1.3340380723788543|  1.18002468821604|                null|\n",
      "|    min|                1|        |Female|                 7|   First-time|      Business|    Business|                31|                 0|                 0|                                     0|                     0|                 0|                 0|                 0|                 0|                0|                 0|                 0|                 0|                 0|                     0|                      0|                 1|Neutral or Dissat...|\n",
      "|    max|           129880| wizzair|  Male|                85|    Returning|      Personal|Economy Plus|              4983|              1592|              1584|                                     5|                     5|                 5|                 5|                 5|                 5|                5|                 5|                 5|                 5|                 5|                     5|                      5|                 5|           Satisfied|\n",
      "+-------+-----------------+--------+------+------------------+-------------+--------------+------------+------------------+------------------+------------------+--------------------------------------+----------------------+------------------+------------------+------------------+------------------+-----------------+------------------+------------------+------------------+------------------+----------------------+-----------------------+------------------+--------------------+\n",
      "\n"
     ]
    },
    {
     "name": "stderr",
     "output_type": "stream",
     "text": [
      "\r",
      "                                                                                \r"
     ]
    }
   ],
   "source": [
    "df.printSchema()\n",
    "\n",
    "# Display summary statistics\n",
    "df.describe().show()"
   ]
  },
  {
   "cell_type": "code",
   "execution_count": null,
   "id": "33d927de",
   "metadata": {},
   "outputs": [],
   "source": []
  }
 ],
 "metadata": {
  "kernelspec": {
   "display_name": "Python 3 (ipykernel)",
   "language": "python",
   "name": "python3"
  },
  "language_info": {
   "codemirror_mode": {
    "name": "ipython",
    "version": 3
   },
   "file_extension": ".py",
   "mimetype": "text/x-python",
   "name": "python",
   "nbconvert_exporter": "python",
   "pygments_lexer": "ipython3",
   "version": "3.10.4"
  }
 },
 "nbformat": 4,
 "nbformat_minor": 5
}
