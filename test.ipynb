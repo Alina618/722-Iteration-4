{
 "cells": [
  {
   "cell_type": "code",
   "execution_count": 1,
   "id": "78ca8a18",
   "metadata": {},
   "outputs": [
    {
     "name": "stderr",
     "output_type": "stream",
     "text": [
      "WARNING: An illegal reflective access operation has occurred\n",
      "WARNING: Illegal reflective access by org.apache.spark.unsafe.Platform (file:/home/ubuntu/spark-3.2.1-bin-hadoop2.7/jars/spark-unsafe_2.12-3.2.1.jar) to constructor java.nio.DirectByteBuffer(long,int)\n",
      "WARNING: Please consider reporting this to the maintainers of org.apache.spark.unsafe.Platform\n",
      "WARNING: Use --illegal-access=warn to enable warnings of further illegal reflective access operations\n",
      "WARNING: All illegal access operations will be denied in a future release\n",
      "Using Spark's default log4j profile: org/apache/spark/log4j-defaults.properties\n",
      "Setting default log level to \"WARN\".\n",
      "To adjust logging level use sc.setLogLevel(newLevel). For SparkR, use setLogLevel(newLevel).\n",
      "24/05/11 00:47:54 WARN NativeCodeLoader: Unable to load native-hadoop library for your platform... using builtin-java classes where applicable\n"
     ]
    }
   ],
   "source": [
    "# Must be included at the beginning of each new notebook. Remember to change the app name.\n",
    "import findspark\n",
    "findspark.init('/home/ubuntu/spark-3.2.1-bin-hadoop2.7')\n",
    "import pyspark\n",
    "from pyspark.sql import SparkSession\n",
    "spark = SparkSession.builder.appName('missing').getOrCreate()"
   ]
  },
  {
   "cell_type": "code",
   "execution_count": 2,
   "id": "3cb16eef",
   "metadata": {},
   "outputs": [
    {
     "name": "stderr",
     "output_type": "stream",
     "text": [
      "                                                                                \r"
     ]
    },
    {
     "name": "stdout",
     "output_type": "stream",
     "text": [
      "+---+--------------+------+---+-------------+--------------+----------+---------------+---------------+-------------+--------------------------------------+----------------------+----------------+---------------+-------------+----------------+------------+----------------+-----------+--------------+-----------------+----------------------+-----------------------+----------------+--------------------+\n",
      "| ID|      Aircraft|Gender|Age|Customer Type|Type of Travel|Cabin Type|Flight Distance|Departure Delay|Arrival Delay|Departure and Arrival Time Convenience|Ease of Online Booking|Check-in Service|Online Boarding|Gate Location|On-board Service|Seat Comfort|Leg Room Service|Cleanliness|Food and Drink|In-flight Service|In-flight Wifi Service|In-flight Entertainment|Baggage Handling|        Satisfaction|\n",
      "+---+--------------+------+---+-------------+--------------+----------+---------------+---------------+-------------+--------------------------------------+----------------------+----------------+---------------+-------------+----------------+------------+----------------+-----------+--------------+-----------------+----------------------+-----------------------+----------------+--------------------+\n",
      "|  1|          null|  Male| 48|   First-time|      Business|  Business|            821|              2|            5|                                     3|                     3|               4|              3|            3|               3|           5|               2|          5|             5|                5|                     3|                      5|               5|Neutral or Dissat...|\n",
      "|  2|          E120|Female| 35|    Returning|      Business|  Business|            821|             26|           39|                                     2|                     2|               3|              5|            2|               5|           4|               5|          5|             3|                5|                     2|                      5|               5|           Satisfied|\n",
      "|  3|  Embraer E120|  Male| 41|    Returning|      Business|  Business|            853|              0|            0|                                     4|                     4|               4|              5|            4|               3|           5|               3|          5|             5|                3|                     4|                      3|               3|           Satisfied|\n",
      "|  4|          null|  Male| 50|    Returning|      Business|  Business|           1905|              0|            0|                                     2|                     2|               3|              4|            2|               5|           5|               5|          4|             4|                5|                     2|                      5|               5|           Satisfied|\n",
      "|  5|          null|Female| 49|    Returning|      Business|  Business|           3470|              0|            1|                                     3|                     3|               3|              5|            3|               3|           4|               4|          5|             4|                3|                     3|                      3|               3|           Satisfied|\n",
      "|  6|          null|  Male| 43|    Returning|      Business|  Business|           3788|              0|            0|                                     4|                     4|               3|              5|            4|               4|           4|            null|          3|             3|                4|                     4|                      4|               4|           Satisfied|\n",
      "|  7|          null|  Male| 43|    Returning|      Business|  Business|           1963|              0|            0|                                     3|                     3|               4|              4|            3|               5|           5|               5|          4|             5|                5|                     3|                      5|               5|           Satisfied|\n",
      "|  8|       Dornier|Female| 60|    Returning|      Business|  Business|            853|              0|            3|                                     3|                     4|               3|              4|            4|               3|           4|               4|          4|             4|                3|                     4|                      3|               3|           Satisfied|\n",
      "|  9|       Dornier|  Male| 50|    Returning|      Business|  Business|           2607|              0|            0|                                     1|                     1|               3|              2|            1|               4|           3|               4|          3|             3|                4|                     4|                      4|               4|Neutral or Dissat...|\n",
      "| 10| BAe Jetstream|Female| 38|    Returning|      Business|  Business|           2822|             13|            0|                                     2|                     5|               3|              5|            2|               5|           4|               5|          4|             2|                5|                     2|                      5|               5|           Satisfied|\n",
      "| 11|          null|Female| 28|   First-time|      Business|  Business|            821|              0|            5|                                     1|                     1|               3|              1|            3|               2|           2|               5|          2|             2|                4|                     1|                      2|               3|Neutral or Dissat...|\n",
      "| 12|          null|Female| 27|   First-time|      Business|  Business|            421|             20|           21|                                     2|                     2|               1|              2|            4|               2|           2|               5|          1|             1|                3|                     1|                      1|               4|Neutral or Dissat...|\n",
      "| 13|        CR 900|  Male| 24|   First-time|      Business|   Economy|            453|             16|           30|                                     2|                     2|               2|              2|            4|               2|           5|               4|          5|             5|                4|                     2|                      5|               4|Neutral or Dissat...|\n",
      "| 14|          null|  Male|  9|    Returning|      Personal|  Business|            853|             68|           76|                                     5|                     1|               5|              1|            2|               4|           5|               3|          5|             5|                5|                     1|                      5|               4|Neutral or Dissat...|\n",
      "| 15|Bombardier CRJ|  Male| 52|    Returning|      Personal|   Economy|            853|              0|            0|                                     4|                     2|               3|              2|            4|               3|           2|               3|          2|             2|                5|                     2|                      2|               5|Neutral or Dissat...|\n",
      "| 16|          null|  Male| 70|    Returning|      Personal|   Economy|            821|              0|            0|                                     5|                     2|               4|              2|            1|               4|           5|               2|          5|             5|                5|                     2|                      5|               4|Neutral or Dissat...|\n",
      "| 17|          null|Female| 48|    Returning|      Personal|   Economy|            821|              0|            0|                                     3|                     2|               5|              5|            3|               5|           1|               2|          2|             1|                5|                     2|                      5|               5|Neutral or Dissat...|\n",
      "| 18|          null|Female| 61|    Returning|      Personal|   Economy|            821|              0|            0|                                     5|                     2|               5|              1|            1|               5|           5|               2|          1|             4|                5|                     2|                      5|               5|Neutral or Dissat...|\n",
      "| 19|          null|Female| 11|    Returning|      Personal|   Economy|            853|              0|            0|                                     5|                     3|               5|              3|            2|               3|           5|               2|          5|             5|                5|                     3|                      5|               4|Neutral or Dissat...|\n",
      "| 20|          null|Female| 42|    Returning|      Personal|   Economy|            821|              4|            0|                                     3|                     3|               3|              3|            4|               1|           4|               3|          3|             1|                1|                     3|                      1|               1|Neutral or Dissat...|\n",
      "+---+--------------+------+---+-------------+--------------+----------+---------------+---------------+-------------+--------------------------------------+----------------------+----------------+---------------+-------------+----------------+------------+----------------+-----------+--------------+-----------------+----------------------+-----------------------+----------------+--------------------+\n",
      "only showing top 20 rows\n",
      "\n"
     ]
    }
   ],
   "source": [
    "# Importing data which has a header. Schema is automatically configured.\n",
    "df = spark.read.csv('airline_passenger satisfaction raw.csv', header=True, inferSchema=True)\n",
    "\n",
    "# Let's see the data. You'll notice nulls.\n",
    "df.show()"
   ]
  },
  {
   "cell_type": "code",
   "execution_count": 3,
   "id": "e730e89a",
   "metadata": {},
   "outputs": [
    {
     "name": "stderr",
     "output_type": "stream",
     "text": [
      "24/05/11 00:49:33 WARN package: Truncated the string representation of a plan since it was too large. This behavior can be adjusted by setting 'spark.sql.debug.maxToStringFields'.\n"
     ]
    },
    {
     "name": "stdout",
     "output_type": "stream",
     "text": [
      "+---+--------------+------+---+-------------+--------------+----------+---------------+---------------+-------------+--------------------------------------+----------------------+----------------+---------------+-------------+----------------+------------+----------------+-----------+--------------+-----------------+----------------------+-----------------------+----------------+--------------------+\n",
      "| ID|      Aircraft|Gender|Age|Customer Type|Type of Travel|Cabin Type|Flight Distance|Departure Delay|Arrival Delay|Departure and Arrival Time Convenience|Ease of Online Booking|Check-in Service|Online Boarding|Gate Location|On-board Service|Seat Comfort|Leg Room Service|Cleanliness|Food and Drink|In-flight Service|In-flight Wifi Service|In-flight Entertainment|Baggage Handling|        Satisfaction|\n",
      "+---+--------------+------+---+-------------+--------------+----------+---------------+---------------+-------------+--------------------------------------+----------------------+----------------+---------------+-------------+----------------+------------+----------------+-----------+--------------+-----------------+----------------------+-----------------------+----------------+--------------------+\n",
      "|  2|          E120|Female| 35|    Returning|      Business|  Business|            821|             26|           39|                                     2|                     2|               3|              5|            2|               5|           4|               5|          5|             3|                5|                     2|                      5|               5|           Satisfied|\n",
      "|  3|  Embraer E120|  Male| 41|    Returning|      Business|  Business|            853|              0|            0|                                     4|                     4|               4|              5|            4|               3|           5|               3|          5|             5|                3|                     4|                      3|               3|           Satisfied|\n",
      "|  8|       Dornier|Female| 60|    Returning|      Business|  Business|            853|              0|            3|                                     3|                     4|               3|              4|            4|               3|           4|               4|          4|             4|                3|                     4|                      3|               3|           Satisfied|\n",
      "|  9|       Dornier|  Male| 50|    Returning|      Business|  Business|           2607|              0|            0|                                     1|                     1|               3|              2|            1|               4|           3|               4|          3|             3|                4|                     4|                      4|               4|Neutral or Dissat...|\n",
      "| 10| BAe Jetstream|Female| 38|    Returning|      Business|  Business|           2822|             13|            0|                                     2|                     5|               3|              5|            2|               5|           4|               5|          4|             2|                5|                     2|                      5|               5|           Satisfied|\n",
      "| 13|        CR 900|  Male| 24|   First-time|      Business|   Economy|            453|             16|           30|                                     2|                     2|               2|              2|            4|               2|           5|               4|          5|             5|                4|                     2|                      5|               4|Neutral or Dissat...|\n",
      "| 15|Bombardier CRJ|  Male| 52|    Returning|      Personal|   Economy|            853|              0|            0|                                     4|                     2|               3|              2|            4|               3|           2|               3|          2|             2|                5|                     2|                      2|               5|Neutral or Dissat...|\n",
      "| 22|          A319|Female| 70|    Returning|      Personal|   Economy|            853|              0|            0|                                     4|                     1|               4|              4|            2|               1|           4|               1|          4|             2|                1|                     1|                      1|               1|Neutral or Dissat...|\n",
      "| 25|        ATR-72|  Male| 51|    Returning|      Business|  Business|           3460|              0|            2|                                     3|                     3|               5|              4|            3|               5|           5|               4|          4|             2|                5|                     3|                      5|               5|           Satisfied|\n",
      "| 26|CRJ700 / ATR72|  Male| 47|    Returning|      Business|  Business|           1676|              0|           15|                                     4|                     5|               5|              4|            4|               5|           5|               5|          5|             5|                5|                     4|                      5|               4|           Satisfied|\n",
      "| 29|           CR9|  Male| 40|    Returning|      Business|  Business|           3734|              0|           52|                                     4|                     4|               4|              4|            4|               5|           4|               5|          3|             2|                5|                     4|                      5|               5|           Satisfied|\n",
      "| 30|  Canadair 700|  Male| 48|    Returning|      Business|  Business|           3088|              0|           12|                                     4|                     5|               3|              4|            4|               4|           4|               4|          3|             3|                4|                     4|                      4|               4|           Satisfied|\n",
      "| 31|        CRJ900|  Male| 35|   First-time|      Business|  Business|            212|              0|            0|                                     2|                     2|               5|              2|            1|               4|           2|               5|          2|             2|                4|                     2|                      2|               5|Neutral or Dissat...|\n",
      "| 32|        CRJ900|  Male| 21|   First-time|      Business|   Economy|            173|              0|            0|                                     0|                     4|               3|              4|            4|               5|           3|               5|          3|             3|                4|                     4|                      3|               4|           Satisfied|\n",
      "| 34|       CRJ-900|Female| 48|    Returning|      Business|  Business|            173|              0|            0|                                     5|                     0|               5|              5|            4|               5|           4|               5|          4|             3|                5|                     0|                      5|               5|           Satisfied|\n",
      "| 35|       CRJ-900|  Male| 39|    Returning|      Business|  Business|           1672|             23|           17|                                     2|                     2|               5|              4|            2|               3|           5|               4|          5|             5|                3|                     2|                      3|               5|           Satisfied|\n",
      "| 36| CRJ900 / A319|Female| 42|    Returning|      Business|  Business|           2884|              0|            0|                                     2|                     5|               3|              4|            5|               5|           5|               5|          4|             2|                5|                     5|                      5|               5|           Satisfied|\n",
      "| 37|          A319|Female| 54|    Returning|      Business|  Business|            212|             12|           26|                                     4|                     4|               5|              5|            4|               4|           4|               4|          4|             5|                4|                     4|                      4|               5|           Satisfied|\n",
      "| 39|  Canadair 700|Female| 46|    Returning|      Business|  Business|             67|              0|            0|                                     3|                     3|               5|              5|            3|               4|           4|               4|          5|             4|                4|                     3|                      4|               4|           Satisfied|\n",
      "| 40|       CRJ 900|  Male| 51|    Returning|      Business|  Business|            212|              0|            0|                                     2|                     2|               3|              4|            2|               5|           4|               4|          5|             2|                5|                     2|                      5|               4|           Satisfied|\n",
      "+---+--------------+------+---+-------------+--------------+----------+---------------+---------------+-------------+--------------------------------------+----------------------+----------------+---------------+-------------+----------------+------------+----------------+-----------+--------------+-----------------+----------------------+-----------------------+----------------+--------------------+\n",
      "only showing top 20 rows\n",
      "\n"
     ]
    }
   ],
   "source": [
    "# Using this syntax, we can drop any row with missing data. Three rows are dropped.\n",
    "df.na.drop().show()"
   ]
  },
  {
   "cell_type": "code",
   "execution_count": null,
   "id": "afcd29f9",
   "metadata": {},
   "outputs": [],
   "source": []
  }
 ],
 "metadata": {
  "kernelspec": {
   "display_name": "Python 3 (ipykernel)",
   "language": "python",
   "name": "python3"
  },
  "language_info": {
   "codemirror_mode": {
    "name": "ipython",
    "version": 3
   },
   "file_extension": ".py",
   "mimetype": "text/x-python",
   "name": "python",
   "nbconvert_exporter": "python",
   "pygments_lexer": "ipython3",
   "version": "3.10.4"
  }
 },
 "nbformat": 4,
 "nbformat_minor": 5
}
