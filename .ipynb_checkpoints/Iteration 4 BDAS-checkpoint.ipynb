{
 "cells": [
  {
   "cell_type": "markdown",
   "id": "99fe785f",
   "metadata": {},
   "source": [
    "01-BU\n",
    "Flight passanger satisfaction"
   ]
  },
  {
   "cell_type": "code",
   "execution_count": 62,
   "id": "e9f343f0",
   "metadata": {
    "scrolled": true
   },
   "outputs": [],
   "source": [
    "import findspark\n",
    "findspark.init('/home/ubuntu/spark-3.2.1-bin-hadoop2.7')\n",
    "import pyspark\n",
    "from pyspark.sql import SparkSession\n",
    "spark = SparkSession.builder.appName('Flight passangers satisfaction').getOrCreate()"
   ]
  },
  {
   "cell_type": "markdown",
   "id": "9fc00aa6",
   "metadata": {},
   "source": [
    "02-DU"
   ]
  },
  {
   "cell_type": "code",
   "execution_count": 63,
   "id": "220dc4f8",
   "metadata": {},
   "outputs": [
    {
     "name": "stderr",
     "output_type": "stream",
     "text": [
      "\r",
      "[Stage 842:============================>                            (1 + 1) / 2]\r",
      "\r",
      "                                                                                \r"
     ]
    }
   ],
   "source": [
    "df = spark.read.csv('airline_passenger satisfaction raw.csv',header=True, inferSchema=True, encoding='ISO-8859-1')"
   ]
  },
  {
   "cell_type": "markdown",
   "id": "2f0d9bd0",
   "metadata": {},
   "source": [
    "2.1 Collect initial data"
   ]
  },
  {
   "cell_type": "code",
   "execution_count": 64,
   "id": "1a051aff",
   "metadata": {},
   "outputs": [
    {
     "name": "stdout",
     "output_type": "stream",
     "text": [
      "+---+--------------+------+---+-------------+--------------+----------+---------------+---------------+-------------+--------------------------------------+----------------------+----------------+---------------+-------------+----------------+------------+----------------+-----------+--------------+-----------------+----------------------+-----------------------+----------------+-----------------------+\n",
      "|ID |Aircraft      |Gender|Age|Customer Type|Type of Travel|Cabin Type|Flight Distance|Departure Delay|Arrival Delay|Departure and Arrival Time Convenience|Ease of Online Booking|Check-in Service|Online Boarding|Gate Location|On-board Service|Seat Comfort|Leg Room Service|Cleanliness|Food and Drink|In-flight Service|In-flight Wifi Service|In-flight Entertainment|Baggage Handling|Satisfaction           |\n",
      "+---+--------------+------+---+-------------+--------------+----------+---------------+---------------+-------------+--------------------------------------+----------------------+----------------+---------------+-------------+----------------+------------+----------------+-----------+--------------+-----------------+----------------------+-----------------------+----------------+-----------------------+\n",
      "|1  |null          |Male  |48 |First-time   |Business      |Business  |821            |2              |5            |3                                     |3                     |4               |3              |3            |3               |5           |2               |5          |5             |5                |3                     |5                      |5               |Neutral or Dissatisfied|\n",
      "|2  |E120          |Female|35 |Returning    |Business      |Business  |821            |26             |39           |2                                     |2                     |3               |5              |2            |5               |4           |5               |5          |3             |5                |2                     |5                      |5               |Satisfied              |\n",
      "|3  |Embraer E120  |Male  |41 |Returning    |Business      |Business  |853            |0              |0            |4                                     |4                     |4               |5              |4            |3               |5           |3               |5          |5             |3                |4                     |3                      |3               |Satisfied              |\n",
      "|4  |null          |Male  |50 |Returning    |Business      |Business  |1905           |0              |0            |2                                     |2                     |3               |4              |2            |5               |5           |5               |4          |4             |5                |2                     |5                      |5               |Satisfied              |\n",
      "|5  |null          |Female|49 |Returning    |Business      |Business  |3470           |0              |1            |3                                     |3                     |3               |5              |3            |3               |4           |4               |5          |4             |3                |3                     |3                      |3               |Satisfied              |\n",
      "|6  |null          |Male  |43 |Returning    |Business      |Business  |3788           |0              |0            |4                                     |4                     |3               |5              |4            |4               |4           |null            |3          |3             |4                |4                     |4                      |4               |Satisfied              |\n",
      "|7  |null          |Male  |43 |Returning    |Business      |Business  |1963           |0              |0            |3                                     |3                     |4               |4              |3            |5               |5           |5               |4          |5             |5                |3                     |5                      |5               |Satisfied              |\n",
      "|8  |Dornier       |Female|60 |Returning    |Business      |Business  |853            |0              |3            |3                                     |4                     |3               |4              |4            |3               |4           |4               |4          |4             |3                |4                     |3                      |3               |Satisfied              |\n",
      "|9  |Dornier       |Male  |50 |Returning    |Business      |Business  |2607           |0              |0            |1                                     |1                     |3               |2              |1            |4               |3           |4               |3          |3             |4                |4                     |4                      |4               |Neutral or Dissatisfied|\n",
      "|10 |BAe Jetstream |Female|38 |Returning    |Business      |Business  |2822           |13             |0            |2                                     |5                     |3               |5              |2            |5               |4           |5               |4          |2             |5                |2                     |5                      |5               |Satisfied              |\n",
      "|11 |null          |Female|28 |First-time   |Business      |Business  |821            |0              |5            |1                                     |1                     |3               |1              |3            |2               |2           |5               |2          |2             |4                |1                     |2                      |3               |Neutral or Dissatisfied|\n",
      "|12 |null          |Female|27 |First-time   |Business      |Business  |421            |20             |21           |2                                     |2                     |1               |2              |4            |2               |2           |5               |1          |1             |3                |1                     |1                      |4               |Neutral or Dissatisfied|\n",
      "|13 |CR 900        |Male  |24 |First-time   |Business      |Economy   |453            |16             |30           |2                                     |2                     |2               |2              |4            |2               |5           |4               |5          |5             |4                |2                     |5                      |4               |Neutral or Dissatisfied|\n",
      "|14 |null          |Male  |9  |Returning    |Personal      |Business  |853            |68             |76           |5                                     |1                     |5               |1              |2            |4               |5           |3               |5          |5             |5                |1                     |5                      |4               |Neutral or Dissatisfied|\n",
      "|15 |Bombardier CRJ|Male  |52 |Returning    |Personal      |Economy   |853            |0              |0            |4                                     |2                     |3               |2              |4            |3               |2           |3               |2          |2             |5                |2                     |2                      |5               |Neutral or Dissatisfied|\n",
      "|16 |null          |Male  |70 |Returning    |Personal      |Economy   |821            |0              |0            |5                                     |2                     |4               |2              |1            |4               |5           |2               |5          |5             |5                |2                     |5                      |4               |Neutral or Dissatisfied|\n",
      "|17 |null          |Female|48 |Returning    |Personal      |Economy   |821            |0              |0            |3                                     |2                     |5               |5              |3            |5               |1           |2               |2          |1             |5                |2                     |5                      |5               |Neutral or Dissatisfied|\n",
      "|18 |null          |Female|61 |Returning    |Personal      |Economy   |821            |0              |0            |5                                     |2                     |5               |1              |1            |5               |5           |2               |1          |4             |5                |2                     |5                      |5               |Neutral or Dissatisfied|\n",
      "|19 |null          |Female|11 |Returning    |Personal      |Economy   |853            |0              |0            |5                                     |3                     |5               |3              |2            |3               |5           |2               |5          |5             |5                |3                     |5                      |4               |Neutral or Dissatisfied|\n",
      "|20 |null          |Female|42 |Returning    |Personal      |Economy   |821            |4              |0            |3                                     |3                     |3               |3              |4            |1               |4           |3               |3          |1             |1                |3                     |1                      |1               |Neutral or Dissatisfied|\n",
      "+---+--------------+------+---+-------------+--------------+----------+---------------+---------------+-------------+--------------------------------------+----------------------+----------------+---------------+-------------+----------------+------------+----------------+-----------+--------------+-----------------+----------------------+-----------------------+----------------+-----------------------+\n",
      "only showing top 20 rows\n",
      "\n",
      "+---+--------------+------+---+-------------+--------------+------------+---------------+---------------+-------------+--------------------------------------+----------------------+----------------+---------------+-------------+----------------+------------+----------------+-----------+--------------+-----------------+----------------------+-----------------------+----------------+--------------------+\n",
      "| ID|      Aircraft|Gender|Age|Customer Type|Type of Travel|  Cabin Type|Flight Distance|Departure Delay|Arrival Delay|Departure and Arrival Time Convenience|Ease of Online Booking|Check-in Service|Online Boarding|Gate Location|On-board Service|Seat Comfort|Leg Room Service|Cleanliness|Food and Drink|In-flight Service|In-flight Wifi Service|In-flight Entertainment|Baggage Handling|        Satisfaction|\n",
      "+---+--------------+------+---+-------------+--------------+------------+---------------+---------------+-------------+--------------------------------------+----------------------+----------------+---------------+-------------+----------------+------------+----------------+-----------+--------------+-----------------+----------------------+-----------------------+----------------+--------------------+\n",
      "|  1|          null|  Male| 48|   First-time|      Business|    Business|            821|              2|            5|                                     3|                     3|               4|              3|            3|               3|           5|               2|          5|             5|                5|                     3|                      5|               5|Neutral or Dissat...|\n",
      "|  2|          E120|Female| 35|    Returning|      Business|    Business|            821|             26|           39|                                     2|                     2|               3|              5|            2|               5|           4|               5|          5|             3|                5|                     2|                      5|               5|           Satisfied|\n",
      "|  3|  Embraer E120|  Male| 41|    Returning|      Business|    Business|            853|              0|            0|                                     4|                     4|               4|              5|            4|               3|           5|               3|          5|             5|                3|                     4|                      3|               3|           Satisfied|\n",
      "|  4|          null|  Male| 50|    Returning|      Business|    Business|           1905|              0|            0|                                     2|                     2|               3|              4|            2|               5|           5|               5|          4|             4|                5|                     2|                      5|               5|           Satisfied|\n",
      "|  5|          null|Female| 49|    Returning|      Business|    Business|           3470|              0|            1|                                     3|                     3|               3|              5|            3|               3|           4|               4|          5|             4|                3|                     3|                      3|               3|           Satisfied|\n",
      "|  6|          null|  Male| 43|    Returning|      Business|    Business|           3788|              0|            0|                                     4|                     4|               3|              5|            4|               4|           4|            null|          3|             3|                4|                     4|                      4|               4|           Satisfied|\n",
      "|  7|          null|  Male| 43|    Returning|      Business|    Business|           1963|              0|            0|                                     3|                     3|               4|              4|            3|               5|           5|               5|          4|             5|                5|                     3|                      5|               5|           Satisfied|\n",
      "|  8|       Dornier|Female| 60|    Returning|      Business|    Business|            853|              0|            3|                                     3|                     4|               3|              4|            4|               3|           4|               4|          4|             4|                3|                     4|                      3|               3|           Satisfied|\n",
      "|  9|       Dornier|  Male| 50|    Returning|      Business|    Business|           2607|              0|            0|                                     1|                     1|               3|              2|            1|               4|           3|               4|          3|             3|                4|                     4|                      4|               4|Neutral or Dissat...|\n",
      "| 10| BAe Jetstream|Female| 38|    Returning|      Business|    Business|           2822|             13|            0|                                     2|                     5|               3|              5|            2|               5|           4|               5|          4|             2|                5|                     2|                      5|               5|           Satisfied|\n",
      "| 11|          null|Female| 28|   First-time|      Business|    Business|            821|              0|            5|                                     1|                     1|               3|              1|            3|               2|           2|               5|          2|             2|                4|                     1|                      2|               3|Neutral or Dissat...|\n",
      "| 12|          null|Female| 27|   First-time|      Business|    Business|            421|             20|           21|                                     2|                     2|               1|              2|            4|               2|           2|               5|          1|             1|                3|                     1|                      1|               4|Neutral or Dissat...|\n",
      "| 13|        CR 900|  Male| 24|   First-time|      Business|     Economy|            453|             16|           30|                                     2|                     2|               2|              2|            4|               2|           5|               4|          5|             5|                4|                     2|                      5|               4|Neutral or Dissat...|\n",
      "| 14|          null|  Male|  9|    Returning|      Personal|    Business|            853|             68|           76|                                     5|                     1|               5|              1|            2|               4|           5|               3|          5|             5|                5|                     1|                      5|               4|Neutral or Dissat...|\n",
      "| 15|Bombardier CRJ|  Male| 52|    Returning|      Personal|     Economy|            853|              0|            0|                                     4|                     2|               3|              2|            4|               3|           2|               3|          2|             2|                5|                     2|                      2|               5|Neutral or Dissat...|\n",
      "| 16|          null|  Male| 70|    Returning|      Personal|     Economy|            821|              0|            0|                                     5|                     2|               4|              2|            1|               4|           5|               2|          5|             5|                5|                     2|                      5|               4|Neutral or Dissat...|\n",
      "| 17|          null|Female| 48|    Returning|      Personal|     Economy|            821|              0|            0|                                     3|                     2|               5|              5|            3|               5|           1|               2|          2|             1|                5|                     2|                      5|               5|Neutral or Dissat...|\n",
      "| 18|          null|Female| 61|    Returning|      Personal|     Economy|            821|              0|            0|                                     5|                     2|               5|              1|            1|               5|           5|               2|          1|             4|                5|                     2|                      5|               5|Neutral or Dissat...|\n",
      "| 19|          null|Female| 11|    Returning|      Personal|     Economy|            853|              0|            0|                                     5|                     3|               5|              3|            2|               3|           5|               2|          5|             5|                5|                     3|                      5|               4|Neutral or Dissat...|\n",
      "| 20|          null|Female| 42|    Returning|      Personal|     Economy|            821|              4|            0|                                     3|                     3|               3|              3|            4|               1|           4|               3|          3|             1|                1|                     3|                      1|               1|Neutral or Dissat...|\n",
      "| 21|          null|Female| 14|    Returning|      Personal|     Economy|            853|             12|            1|                                     1|                     3|               4|              3|            3|               1|           4|               3|          4|             4|                3|                     3|                      4|               2|Neutral or Dissat...|\n",
      "| 22|          A319|Female| 70|    Returning|      Personal|     Economy|            853|              0|            0|                                     4|                     1|               4|              4|            2|               1|           4|               1|          4|             2|                1|                     1|                      1|               1|Neutral or Dissat...|\n",
      "| 23|          null|Female| 56|    Returning|      Personal|     Economy|            821|              0|            0|                                     4|                     3|               4|              4|            3|               5|           3|               3|          4|             3|                5|                     4|                      5|               5|Neutral or Dissat...|\n",
      "| 24|          null|  Male| 77|    Returning|      Business|Economy Plus|            821|              0|            0|                                     5|                     5|               1|              4|            5|               4|           4|               5|          4|             4|                2|                     4|                      4|               3|Neutral or Dissat...|\n",
      "| 25|        ATR-72|  Male| 51|    Returning|      Business|    Business|           3460|              0|            2|                                     3|                     3|               5|              4|            3|               5|           5|               4|          4|             2|                5|                     3|                      5|               5|           Satisfied|\n",
      "| 26|CRJ700 / ATR72|  Male| 47|    Returning|      Business|    Business|           1676|              0|           15|                                     4|                     5|               5|              4|            4|               5|           5|               5|          5|             5|                5|                     4|                      5|               4|           Satisfied|\n",
      "+---+--------------+------+---+-------------+--------------+------------+---------------+---------------+-------------+--------------------------------------+----------------------+----------------+---------------+-------------+----------------+------------+----------------+-----------+--------------+-----------------+----------------------+-----------------------+----------------+--------------------+\n",
      "only showing top 26 rows\n",
      "\n"
     ]
    },
    {
     "data": {
      "text/plain": [
       "['ID',\n",
       " 'Aircraft',\n",
       " 'Gender',\n",
       " 'Age',\n",
       " 'Customer Type',\n",
       " 'Type of Travel',\n",
       " 'Cabin Type',\n",
       " 'Flight Distance',\n",
       " 'Departure Delay',\n",
       " 'Arrival Delay',\n",
       " 'Departure and Arrival Time Convenience',\n",
       " 'Ease of Online Booking',\n",
       " 'Check-in Service',\n",
       " 'Online Boarding',\n",
       " 'Gate Location',\n",
       " 'On-board Service',\n",
       " 'Seat Comfort',\n",
       " 'Leg Room Service',\n",
       " 'Cleanliness',\n",
       " 'Food and Drink',\n",
       " 'In-flight Service',\n",
       " 'In-flight Wifi Service',\n",
       " 'In-flight Entertainment',\n",
       " 'Baggage Handling',\n",
       " 'Satisfaction']"
      ]
     },
     "execution_count": 64,
     "metadata": {},
     "output_type": "execute_result"
    }
   ],
   "source": [
    "df.show(truncate=False)\n",
    "df.show(26)\n",
    "df.columns"
   ]
  },
  {
   "cell_type": "markdown",
   "id": "f139fa1a",
   "metadata": {},
   "source": [
    "2.2 Describe the data"
   ]
  },
  {
   "cell_type": "code",
   "execution_count": 65,
   "id": "ef019484",
   "metadata": {},
   "outputs": [
    {
     "name": "stderr",
     "output_type": "stream",
     "text": [
      "[Stage 845:============================>                            (1 + 1) / 2]\r"
     ]
    },
    {
     "name": "stdout",
     "output_type": "stream",
     "text": [
      "+-------+-----------------+--------+------+------------------+-------------+--------------+------------+------------------+------------------+------------------+--------------------------------------+----------------------+------------------+------------------+------------------+------------------+-----------------+------------------+------------------+------------------+------------------+----------------------+-----------------------+------------------+--------------------+\n",
      "|summary|               ID|Aircraft|Gender|               Age|Customer Type|Type of Travel|  Cabin Type|   Flight Distance|   Departure Delay|     Arrival Delay|Departure and Arrival Time Convenience|Ease of Online Booking|  Check-in Service|   Online Boarding|     Gate Location|  On-board Service|     Seat Comfort|  Leg Room Service|       Cleanliness|    Food and Drink| In-flight Service|In-flight Wifi Service|In-flight Entertainment|  Baggage Handling|        Satisfaction|\n",
      "+-------+-----------------+--------+------+------------------+-------------+--------------+------------+------------------+------------------+------------------+--------------------------------------+----------------------+------------------+------------------+------------------+------------------+-----------------+------------------+------------------+------------------+------------------+----------------------+-----------------------+------------------+--------------------+\n",
      "|  count|           129880|   36444|129880|            129880|       129880|        129880|      129880|            129880|            129876|            129480|                                129871|                129877|            129862|            129871|            129873|            129872|           129871|            129865|            129870|            129874|            129874|                129875|                 129879|            129877|              129880|\n",
      "|   mean|          64940.5|Infinity|  null| 39.42795657530028|         null|          null|        null|1190.3163920542038|14.713195663556007|15.090438677788075|                    3.0576187139546165|     2.756916159135182|3.3062173692073125|3.2526045075497994|2.9769159101583855| 3.383023284464704|3.441345642984192|3.3508412582297002|3.2863478863478863| 3.204798497004789| 3.642176263147358|    2.7286929740134744|      3.358094842122283|3.6320980620125196|                null|\n",
      "| stddev|37493.27081846377|     NaN|  null|15.119359950371651|         null|          null|        null|  997.452477326764| 38.07039443248041|38.465776886699246|                    1.5267231223906523|    1.4017303625635051|1.2662051583404064|1.3507326751521649|1.2785268766567313|1.2870915086849573|1.319304081292895|1.3162434605397826|1.3136717945748064|1.3299433207404727|1.1766871964620098|    1.3293575422222024|     1.3340380723788543|  1.18002468821604|                null|\n",
      "|    min|                1|        |Female|                 7|   First-time|      Business|    Business|                31|                 0|                 0|                                     0|                     0|                 0|                 0|                 0|                 0|                0|                 0|                 0|                 0|                 0|                     0|                      0|                 1|Neutral or Dissat...|\n",
      "|    max|           129880| wizzair|  Male|                85|    Returning|      Personal|Economy Plus|              4983|              1592|              1584|                                     5|                     5|                 5|                 5|                 5|                 5|                5|                 5|                 5|                 5|                 5|                     5|                      5|                 5|           Satisfied|\n",
      "+-------+-----------------+--------+------+------------------+-------------+--------------+------------+------------------+------------------+------------------+--------------------------------------+----------------------+------------------+------------------+------------------+------------------+-----------------+------------------+------------------+------------------+------------------+----------------------+-----------------------+------------------+--------------------+\n",
      "\n"
     ]
    },
    {
     "name": "stderr",
     "output_type": "stream",
     "text": [
      "\r",
      "                                                                                \r"
     ]
    }
   ],
   "source": [
    "df.describe().show()"
   ]
  },
  {
   "cell_type": "markdown",
   "id": "470f1fc5",
   "metadata": {},
   "source": [
    "2.3 Explore Data"
   ]
  },
  {
   "cell_type": "code",
   "execution_count": 66,
   "id": "28f21d54",
   "metadata": {},
   "outputs": [
    {
     "name": "stdout",
     "output_type": "stream",
     "text": [
      "root\n",
      " |-- ID: integer (nullable = true)\n",
      " |-- Aircraft: string (nullable = true)\n",
      " |-- Gender: string (nullable = true)\n",
      " |-- Age: integer (nullable = true)\n",
      " |-- Customer Type: string (nullable = true)\n",
      " |-- Type of Travel: string (nullable = true)\n",
      " |-- Cabin Type: string (nullable = true)\n",
      " |-- Flight Distance: integer (nullable = true)\n",
      " |-- Departure Delay: integer (nullable = true)\n",
      " |-- Arrival Delay: integer (nullable = true)\n",
      " |-- Departure and Arrival Time Convenience: integer (nullable = true)\n",
      " |-- Ease of Online Booking: integer (nullable = true)\n",
      " |-- Check-in Service: integer (nullable = true)\n",
      " |-- Online Boarding: integer (nullable = true)\n",
      " |-- Gate Location: integer (nullable = true)\n",
      " |-- On-board Service: integer (nullable = true)\n",
      " |-- Seat Comfort: integer (nullable = true)\n",
      " |-- Leg Room Service: integer (nullable = true)\n",
      " |-- Cleanliness: integer (nullable = true)\n",
      " |-- Food and Drink: integer (nullable = true)\n",
      " |-- In-flight Service: integer (nullable = true)\n",
      " |-- In-flight Wifi Service: integer (nullable = true)\n",
      " |-- In-flight Entertainment: integer (nullable = true)\n",
      " |-- Baggage Handling: integer (nullable = true)\n",
      " |-- Satisfaction: string (nullable = true)\n",
      "\n"
     ]
    },
    {
     "name": "stderr",
     "output_type": "stream",
     "text": [
      "[Stage 848:============================>                            (1 + 1) / 2]\r"
     ]
    },
    {
     "name": "stdout",
     "output_type": "stream",
     "text": [
      "+-------+-----------------+--------+------+------------------+-------------+--------------+------------+------------------+------------------+------------------+--------------------------------------+----------------------+------------------+------------------+------------------+------------------+-----------------+------------------+------------------+------------------+------------------+----------------------+-----------------------+------------------+--------------------+\n",
      "|summary|               ID|Aircraft|Gender|               Age|Customer Type|Type of Travel|  Cabin Type|   Flight Distance|   Departure Delay|     Arrival Delay|Departure and Arrival Time Convenience|Ease of Online Booking|  Check-in Service|   Online Boarding|     Gate Location|  On-board Service|     Seat Comfort|  Leg Room Service|       Cleanliness|    Food and Drink| In-flight Service|In-flight Wifi Service|In-flight Entertainment|  Baggage Handling|        Satisfaction|\n",
      "+-------+-----------------+--------+------+------------------+-------------+--------------+------------+------------------+------------------+------------------+--------------------------------------+----------------------+------------------+------------------+------------------+------------------+-----------------+------------------+------------------+------------------+------------------+----------------------+-----------------------+------------------+--------------------+\n",
      "|  count|           129880|   36444|129880|            129880|       129880|        129880|      129880|            129880|            129876|            129480|                                129871|                129877|            129862|            129871|            129873|            129872|           129871|            129865|            129870|            129874|            129874|                129875|                 129879|            129877|              129880|\n",
      "|   mean|          64940.5|Infinity|  null| 39.42795657530028|         null|          null|        null|1190.3163920542038|14.713195663556007|15.090438677788075|                    3.0576187139546165|     2.756916159135182|3.3062173692073125|3.2526045075497994|2.9769159101583855| 3.383023284464704|3.441345642984192|3.3508412582297002|3.2863478863478863| 3.204798497004789| 3.642176263147358|    2.7286929740134744|      3.358094842122283|3.6320980620125196|                null|\n",
      "| stddev|37493.27081846377|     NaN|  null|15.119359950371651|         null|          null|        null|  997.452477326764| 38.07039443248041|38.465776886699246|                    1.5267231223906523|    1.4017303625635051|1.2662051583404064|1.3507326751521649|1.2785268766567313|1.2870915086849573|1.319304081292895|1.3162434605397826|1.3136717945748064|1.3299433207404727|1.1766871964620098|    1.3293575422222024|     1.3340380723788543|  1.18002468821604|                null|\n",
      "|    min|                1|        |Female|                 7|   First-time|      Business|    Business|                31|                 0|                 0|                                     0|                     0|                 0|                 0|                 0|                 0|                0|                 0|                 0|                 0|                 0|                     0|                      0|                 1|Neutral or Dissat...|\n",
      "|    max|           129880| wizzair|  Male|                85|    Returning|      Personal|Economy Plus|              4983|              1592|              1584|                                     5|                     5|                 5|                 5|                 5|                 5|                5|                 5|                 5|                 5|                 5|                     5|                      5|                 5|           Satisfied|\n",
      "+-------+-----------------+--------+------+------------------+-------------+--------------+------------+------------------+------------------+------------------+--------------------------------------+----------------------+------------------+------------------+------------------+------------------+-----------------+------------------+------------------+------------------+------------------+----------------------+-----------------------+------------------+--------------------+\n",
      "\n"
     ]
    },
    {
     "name": "stderr",
     "output_type": "stream",
     "text": [
      "\r",
      "                                                                                \r"
     ]
    }
   ],
   "source": [
    "df.printSchema()\n",
    "\n",
    "# Display summary statistics\n",
    "spark.conf.set(\"spark.sql.repl.eagerEval.maxNumRows\", 1000)\n",
    "spark.conf.set(\"spark.sql.repl.eagerEval.maxNumCols\", 1000)\n",
    "\n",
    "df.describe().show()"
   ]
  },
  {
   "cell_type": "code",
   "execution_count": 67,
   "id": "33d927de",
   "metadata": {},
   "outputs": [
    {
     "data": {
      "image/png": "[encoded data removed]",
      "text/plain": [
       "<Figure size 432x288 with 1 Axes>"
      ]
     },
     "metadata": {},
     "output_type": "display_data"
    }
   ],
   "source": [
    "import matplotlib.pyplot as plt\n",
    "gender_counts = df.groupBy(\"Gender\").count().collect()\n",
    "genders = [row[\"Gender\"] for row in gender_counts]\n",
    "counts = [row[\"count\"] for row in gender_counts]\n",
    "plt.pie(counts, labels=genders, autopct='%1.1f%%')\n",
    "plt.show()"
   ]
  },
  {
   "cell_type": "code",
   "execution_count": 68,
   "id": "911b1f12",
   "metadata": {},
   "outputs": [
    {
     "name": "stdout",
     "output_type": "stream",
     "text": [
      "+-------------+------+\n",
      "|Customer Type| count|\n",
      "+-------------+------+\n",
      "|   First-time| 23780|\n",
      "|    Returning|106100|\n",
      "+-------------+------+\n",
      "\n"
     ]
    },
    {
     "data": {
      "image/png": "[encoded data removed]",
      "text/plain": [
       "<Figure size 432x288 with 1 Axes>"
      ]
     },
     "metadata": {},
     "output_type": "display_data"
    }
   ],
   "source": [
    "customer_type_counts = df.groupBy('Customer Type').count()\n",
    "customer_type_counts.show()\n",
    "customer_type_counts.toPandas().plot.pie(y='count', autopct='%1.1f%%')\n",
    "plt.show()"
   ]
  },
  {
   "cell_type": "code",
   "execution_count": 69,
   "id": "1a48ea2f",
   "metadata": {},
   "outputs": [
    {
     "name": "stdout",
     "output_type": "stream",
     "text": [
      "+--------------+-----+\n",
      "|Type of Travel|count|\n",
      "+--------------+-----+\n",
      "|      Personal|40187|\n",
      "|      Business|89693|\n",
      "+--------------+-----+\n",
      "\n"
     ]
    },
    {
     "data": {
      "image/png": "[encoded data removed]",
      "text/plain": [
       "<Figure size 432x288 with 1 Axes>"
      ]
     },
     "metadata": {},
     "output_type": "display_data"
    }
   ],
   "source": [
    "travel_type_counts = df.groupBy('Type of Travel').count()\n",
    "travel_type_counts.show()\n",
    "travel_type_counts.toPandas().plot.pie(y='count', autopct='%1.1f%%')\n",
    "plt.show()"
   ]
  },
  {
   "cell_type": "code",
   "execution_count": 70,
   "id": "ff45482b",
   "metadata": {
    "scrolled": true
   },
   "outputs": [
    {
     "data": {
      "image/png": "[encoded data removed]",
      "text/plain": [
       "<Figure size 432x288 with 1 Axes>"
      ]
     },
     "metadata": {
      "needs_background": "light"
     },
     "output_type": "display_data"
    },
    {
     "data": {
      "image/png": "[encoded data removed]",
      "text/plain": [
       "<Figure size 432x288 with 1 Axes>"
      ]
     },
     "metadata": {
      "needs_background": "light"
     },
     "output_type": "display_data"
    },
    {
     "data": {
      "image/png": "[encoded data removed]",
      "text/plain": [
       "<Figure size 432x288 with 1 Axes>"
      ]
     },
     "metadata": {
      "needs_background": "light"
     },
     "output_type": "display_data"
    },
    {
     "data": {
      "image/png": "[encoded data removed]",
      "text/plain": [
       "<Figure size 432x288 with 1 Axes>"
      ]
     },
     "metadata": {
      "needs_background": "light"
     },
     "output_type": "display_data"
    }
   ],
   "source": [
    "df.select('Flight Distance').toPandas().hist()\n",
    "plt.show()\n",
    "\n",
    "\n",
    "df.select('Age').toPandas().hist()\n",
    "plt.show()\n",
    "\n",
    "\n",
    "df.select('Ease of Online Booking').toPandas().hist()\n",
    "plt.show()\n",
    "\n",
    "\n",
    "df.select('Arrival Delay').toPandas().boxplot()\n",
    "plt.show()"
   ]
  },
  {
   "cell_type": "markdown",
   "id": "df71490d",
   "metadata": {},
   "source": [
    "2.4 Verify the data quality "
   ]
  },
  {
   "cell_type": "code",
   "execution_count": 71,
   "id": "2e149678",
   "metadata": {},
   "outputs": [
    {
     "name": "stdout",
     "output_type": "stream",
     "text": [
      "+-------+------------------+------------------+\n",
      "|summary|     Arrival Delay|   Departure Delay|\n",
      "+-------+------------------+------------------+\n",
      "|  count|            129480|            129876|\n",
      "|   mean|15.090438677788075|14.713195663556007|\n",
      "| stddev|38.465776886699246| 38.07039443248041|\n",
      "|    min|                 0|                 0|\n",
      "|    max|              1584|              1592|\n",
      "+-------+------------------+------------------+\n",
      "\n"
     ]
    }
   ],
   "source": [
    "flight_distance_stats = df.describe('Arrival Delay','Departure Delay')\n",
    "flight_distance_stats.show()"
   ]
  },
  {
   "cell_type": "markdown",
   "id": "ea15400e",
   "metadata": {},
   "source": [
    "03 DP"
   ]
  },
  {
   "cell_type": "markdown",
   "id": "c493f8bb",
   "metadata": {},
   "source": [
    "3.1 Select the data"
   ]
  },
  {
   "cell_type": "code",
   "execution_count": 72,
   "id": "ec90bd63",
   "metadata": {},
   "outputs": [
    {
     "name": "stdout",
     "output_type": "stream",
     "text": [
      "root\n",
      " |-- ID: integer (nullable = true)\n",
      " |-- Gender: string (nullable = true)\n",
      " |-- Age: integer (nullable = true)\n",
      " |-- Customer Type: string (nullable = true)\n",
      " |-- Cabin Type: string (nullable = true)\n",
      " |-- Flight Distance: integer (nullable = true)\n",
      " |-- Departure Delay: integer (nullable = true)\n",
      " |-- Arrival Delay: integer (nullable = true)\n",
      " |-- Departure and Arrival Time Convenience: integer (nullable = true)\n",
      " |-- Ease of Online Booking: integer (nullable = true)\n",
      " |-- Check-in Service: integer (nullable = true)\n",
      " |-- Online Boarding: integer (nullable = true)\n",
      " |-- Gate Location: integer (nullable = true)\n",
      " |-- On-board Service: integer (nullable = true)\n",
      " |-- Seat Comfort: integer (nullable = true)\n",
      " |-- Leg Room Service: integer (nullable = true)\n",
      " |-- Cleanliness: integer (nullable = true)\n",
      " |-- Food and Drink: integer (nullable = true)\n",
      " |-- In-flight Service: integer (nullable = true)\n",
      " |-- In-flight Entertainment: integer (nullable = true)\n",
      " |-- Baggage Handling: integer (nullable = true)\n",
      " |-- Satisfaction: string (nullable = true)\n",
      "\n"
     ]
    }
   ],
   "source": [
    "from pyspark.sql.functions import col\n",
    "#delete some attributes\n",
    "\n",
    "df_03 = df.drop('Aircraft', 'Type of Travel', 'In-flight Wifi Service')\n",
    "\n",
    "df_03.printSchema()"
   ]
  },
  {
   "cell_type": "markdown",
   "id": "f47ee3a8",
   "metadata": {},
   "source": [
    "3.2 Clean the data"
   ]
  },
  {
   "cell_type": "markdown",
   "id": "2d4eed77",
   "metadata": {},
   "source": [
    "3.2.1 Extreme Delays Value Issues "
   ]
  },
  {
   "cell_type": "code",
   "execution_count": 73,
   "id": "cc2fb822",
   "metadata": {},
   "outputs": [
    {
     "data": {
      "image/png": "[encoded data removed]",
      "text/plain": [
       "<Figure size 432x288 with 1 Axes>"
      ]
     },
     "metadata": {
      "needs_background": "light"
     },
     "output_type": "display_data"
    },
    {
     "data": {
      "image/png": "[encoded data removed]",
      "text/plain": [
       "<Figure size 432x288 with 1 Axes>"
      ]
     },
     "metadata": {
      "needs_background": "light"
     },
     "output_type": "display_data"
    }
   ],
   "source": [
    "import matplotlib.pyplot as plt\n",
    "\n",
    "arrival_delay_data = df_03.select('Arrival Delay').toPandas()\n",
    "arrival_delay_data.boxplot()\n",
    "plt.show()\n",
    "\n",
    "departure_delay_data = df_03.select('Departure Delay').toPandas()\n",
    "departure_delay_data.boxplot()\n",
    "plt.show()\n"
   ]
  },
  {
   "cell_type": "code",
   "execution_count": 74,
   "id": "031eb027",
   "metadata": {},
   "outputs": [
    {
     "name": "stdout",
     "output_type": "stream",
     "text": [
      "root\n",
      " |-- ID: integer (nullable = true)\n",
      " |-- Gender: string (nullable = true)\n",
      " |-- Age: integer (nullable = true)\n",
      " |-- Customer Type: string (nullable = true)\n",
      " |-- Cabin Type: string (nullable = true)\n",
      " |-- Flight Distance: integer (nullable = true)\n",
      " |-- Departure Delay: integer (nullable = true)\n",
      " |-- Arrival Delay: integer (nullable = true)\n",
      " |-- Departure and Arrival Time Convenience: integer (nullable = true)\n",
      " |-- Ease of Online Booking: integer (nullable = true)\n",
      " |-- Check-in Service: integer (nullable = true)\n",
      " |-- Online Boarding: integer (nullable = true)\n",
      " |-- Gate Location: integer (nullable = true)\n",
      " |-- On-board Service: integer (nullable = true)\n",
      " |-- Seat Comfort: integer (nullable = true)\n",
      " |-- Leg Room Service: integer (nullable = true)\n",
      " |-- Cleanliness: integer (nullable = true)\n",
      " |-- Food and Drink: integer (nullable = true)\n",
      " |-- In-flight Service: integer (nullable = true)\n",
      " |-- In-flight Entertainment: integer (nullable = true)\n",
      " |-- Baggage Handling: integer (nullable = true)\n",
      " |-- Satisfaction: string (nullable = true)\n",
      "\n",
      "filted rows 129473 \n"
     ]
    }
   ],
   "source": [
    "filtered_df = df_03.filter((col('Arrival Delay') < 1000) & (col('Departure Delay') < 1000))\n",
    "filtered_df.printSchema()\n",
    "row_count = filtered_df.count()\n",
    "print(\"filted rows {} \".format(row_count))"
   ]
  },
  {
   "cell_type": "code",
   "execution_count": 75,
   "id": "1f5f190d",
   "metadata": {},
   "outputs": [
    {
     "data": {
      "image/png": "[encoded data removed]",
      "text/plain": [
       "<Figure size 432x288 with 1 Axes>"
      ]
     },
     "metadata": {
      "needs_background": "light"
     },
     "output_type": "display_data"
    }
   ],
   "source": [
    "arrival_delay_data = filtered_df.select('Arrival Delay').toPandas()\n",
    "arrival_delay_data.hist()\n",
    "plt.title('Arrival Delay')\n",
    "plt.show()"
   ]
  },
  {
   "cell_type": "code",
   "execution_count": 76,
   "id": "7e12fb03",
   "metadata": {},
   "outputs": [
    {
     "data": {
      "image/png": "[encoded data removed]",
      "text/plain": [
       "<Figure size 432x288 with 1 Axes>"
      ]
     },
     "metadata": {
      "needs_background": "light"
     },
     "output_type": "display_data"
    }
   ],
   "source": [
    "departure_delay_data = filtered_df.select('Departure Delay').toPandas()\n",
    "departure_delay_data.hist()\n",
    "plt.title('Departure Delay')\n",
    "plt.show()"
   ]
  },
  {
   "cell_type": "code",
   "execution_count": 18,
   "id": "e1cdaa32",
   "metadata": {},
   "outputs": [
    {
     "name": "stdout",
     "output_type": "stream",
     "text": [
      "Max of Arrival Delay: 970\n",
      "Max of Departure Delay: 978\n"
     ]
    }
   ],
   "source": [
    "max_values = filtered_df.select(\n",
    "    col('Arrival Delay').alias('Max Arrival Delay'),\n",
    "    col('Departure Delay').alias('Max Departure Delay')\n",
    ").agg(\n",
    "    {\"Max Arrival Delay\": \"max\", \"Max Departure Delay\": \"max\"}\n",
    ").collect()\n",
    "max_arrival_delay = max_values[0][\"max(Max Arrival Delay)\"]\n",
    "max_departure_delay = max_values[0][\"max(Max Departure Delay)\"]\n",
    "print(\"Max of Arrival Delay:\", max_arrival_delay)\n",
    "print(\"Max of Departure Delay:\", max_departure_delay)"
   ]
  },
  {
   "cell_type": "code",
   "execution_count": 19,
   "id": "73aa6451",
   "metadata": {},
   "outputs": [
    {
     "data": {
      "image/png": "[encoded data removed]",
      "text/plain": [
       "<Figure size 432x288 with 1 Axes>"
      ]
     },
     "metadata": {
      "needs_background": "light"
     },
     "output_type": "display_data"
    },
    {
     "data": {
      "image/png": "[encoded data removed]",
      "text/plain": [
       "<Figure size 432x288 with 1 Axes>"
      ]
     },
     "metadata": {
      "needs_background": "light"
     },
     "output_type": "display_data"
    }
   ],
   "source": [
    "#drop Arrival Delay > 10 or Departure Delay >10 rows\n",
    "filtered_df1 = filtered_df.filter((col('Arrival Delay') <= 10) & (col('Departure Delay') <= 10))\n",
    "\n",
    "arrival_delay_data_1 = filtered_df1.select('Arrival Delay').toPandas()\n",
    "arrival_delay_data_1.hist()\n",
    "plt.title('Arrival Delay')\n",
    "plt.show()\n",
    "\n",
    "departure_delay_data_1 = filtered_df1.select('Departure Delay').toPandas()\n",
    "departure_delay_data_1.hist()\n",
    "plt.title('Departure Delay')\n",
    "plt.show()"
   ]
  },
  {
   "cell_type": "code",
   "execution_count": 77,
   "id": "a91cd746",
   "metadata": {},
   "outputs": [
    {
     "name": "stderr",
     "output_type": "stream",
     "text": [
      "                                                                                \r"
     ]
    }
   ],
   "source": [
    "filtered_df1.write.csv(\"filtered_data.csv\", header=True, mode=\"overwrite\")"
   ]
  },
  {
   "cell_type": "code",
   "execution_count": 21,
   "id": "fccb4cef",
   "metadata": {},
   "outputs": [
    {
     "name": "stdout",
     "output_type": "stream",
     "text": [
      "attribute 'ID                                    ' have 86775 valid data\n",
      "attribute 'Gender                                ' have 86775 valid data\n",
      "attribute 'Age                                   ' have 86775 valid data\n",
      "attribute 'Customer Type                         ' have 86775 valid data\n",
      "attribute 'Cabin Type                            ' have 86775 valid data\n",
      "attribute 'Flight Distance                       ' have 86775 valid data\n",
      "attribute 'Departure Delay                       ' have 86775 valid data\n",
      "attribute 'Arrival Delay                         ' have 86775 valid data\n",
      "attribute 'Departure and Arrival Time Convenience' have 86766 valid data\n",
      "attribute 'Ease of Online Booking                ' have 86772 valid data\n",
      "attribute 'Check-in Service                      ' have 86761 valid data\n",
      "attribute 'Online Boarding                       ' have 86768 valid data\n",
      "attribute 'Gate Location                         ' have 86769 valid data\n",
      "attribute 'On-board Service                      ' have 86769 valid data\n",
      "attribute 'Seat Comfort                          ' have 86769 valid data\n",
      "attribute 'Leg Room Service                      ' have 86763 valid data\n",
      "attribute 'Cleanliness                           ' have 86769 valid data\n",
      "attribute 'Food and Drink                        ' have 86770 valid data\n",
      "attribute 'In-flight Service                     ' have 86772 valid data\n",
      "attribute 'In-flight Entertainment               ' have 86775 valid data\n",
      "attribute 'Baggage Handling                      ' have 86772 valid data\n",
      "attribute 'Satisfaction                          ' have 86775 valid data\n"
     ]
    }
   ],
   "source": [
    "attributes_count = []\n",
    "for col_name in filtered_df1.columns:\n",
    "    valid_count = filtered_df1.filter(col(col_name).isNotNull()).count()\n",
    "    attributes_count.append((col_name, valid_count))\n",
    "max_attr_len = max(len(attr) for attr, _ in attributes_count)\n",
    "for attr, count in attributes_count:\n",
    "    print(f\"attribute '{attr.ljust(max_attr_len)}' have {count} valid data\")"
   ]
  },
  {
   "cell_type": "markdown",
   "id": "39d6c3ed",
   "metadata": {},
   "source": [
    "3.2.2 Missing value issues"
   ]
  },
  {
   "cell_type": "code",
   "execution_count": 78,
   "id": "2f621973",
   "metadata": {},
   "outputs": [
    {
     "name": "stdout",
     "output_type": "stream",
     "text": [
      "root\n",
      " |-- ID: integer (nullable = true)\n",
      " |-- Gender: string (nullable = true)\n",
      " |-- Age: integer (nullable = true)\n",
      " |-- Customer Type: string (nullable = true)\n",
      " |-- Cabin Type: string (nullable = true)\n",
      " |-- Flight Distance: integer (nullable = true)\n",
      " |-- Departure Delay: integer (nullable = true)\n",
      " |-- Arrival Delay: integer (nullable = true)\n",
      " |-- Departure and Arrival Time Convenience: integer (nullable = true)\n",
      " |-- Ease of Online Booking: integer (nullable = true)\n",
      " |-- Check-in Service: integer (nullable = true)\n",
      " |-- Online Boarding: integer (nullable = true)\n",
      " |-- Gate Location: integer (nullable = true)\n",
      " |-- On-board Service: integer (nullable = true)\n",
      " |-- Seat Comfort: integer (nullable = true)\n",
      " |-- Leg Room Service: integer (nullable = true)\n",
      " |-- Cleanliness: integer (nullable = true)\n",
      " |-- Food and Drink: integer (nullable = true)\n",
      " |-- In-flight Service: integer (nullable = true)\n",
      " |-- In-flight Entertainment: integer (nullable = true)\n",
      " |-- Baggage Handling: integer (nullable = true)\n",
      " |-- Satisfaction: string (nullable = true)\n",
      "\n",
      "root\n",
      " |-- ID: integer (nullable = true)\n",
      " |-- Gender: string (nullable = true)\n",
      " |-- Age: integer (nullable = true)\n",
      " |-- Customer Type: string (nullable = true)\n",
      " |-- Cabin Type: string (nullable = true)\n",
      " |-- Flight Distance: integer (nullable = true)\n",
      " |-- Departure Delay: integer (nullable = true)\n",
      " |-- Arrival Delay: integer (nullable = true)\n",
      " |-- Departure and Arrival Time Convenience: integer (nullable = true)\n",
      " |-- Ease of Online Booking: integer (nullable = true)\n",
      " |-- Check-in Service: integer (nullable = true)\n",
      " |-- Online Boarding: integer (nullable = true)\n",
      " |-- Gate Location: integer (nullable = true)\n",
      " |-- On-board Service: integer (nullable = true)\n",
      " |-- Seat Comfort: integer (nullable = true)\n",
      " |-- Leg Room Service: integer (nullable = true)\n",
      " |-- Cleanliness: integer (nullable = true)\n",
      " |-- Food and Drink: integer (nullable = true)\n",
      " |-- In-flight Service: integer (nullable = true)\n",
      " |-- In-flight Entertainment: integer (nullable = true)\n",
      " |-- Baggage Handling: integer (nullable = true)\n",
      " |-- Satisfaction: string (nullable = true)\n",
      "\n"
     ]
    }
   ],
   "source": [
    "from pyspark.sql.functions import rand\n",
    "from pyspark.sql.types import IntegerType\n",
    "from pyspark.sql.functions import when\n",
    "\n",
    "df_03 = spark.read.csv('filtered_data.csv', header=True, inferSchema=True, encoding='ISO-8859-1')\n",
    "\n",
    "df_03.printSchema()\n",
    "\n",
    "random_int_udf = (rand() * 5 + 1).cast(IntegerType())\n",
    "\n",
    "df_03 = df_03.withColumn(\n",
    "    'Departure and Arrival Time Convenience',\n",
    "    when(col('Departure and Arrival Time Convenience').isNull(),\n",
    "         random_int_udf).otherwise(col('Departure and Arrival Time Convenience').cast(IntegerType())))\n",
    "\n",
    "df_03.printSchema()"
   ]
  },
  {
   "cell_type": "code",
   "execution_count": 79,
   "id": "965a61fc",
   "metadata": {},
   "outputs": [
    {
     "name": "stdout",
     "output_type": "stream",
     "text": [
      "root\n",
      " |-- ID: integer (nullable = true)\n",
      " |-- Gender: string (nullable = true)\n",
      " |-- Age: integer (nullable = true)\n",
      " |-- Customer Type: string (nullable = true)\n",
      " |-- Cabin Type: string (nullable = true)\n",
      " |-- Flight Distance: integer (nullable = true)\n",
      " |-- Departure Delay: integer (nullable = true)\n",
      " |-- Arrival Delay: integer (nullable = true)\n",
      " |-- Departure and Arrival Time Convenience: integer (nullable = true)\n",
      " |-- Ease of Online Booking: integer (nullable = true)\n",
      " |-- Check-in Service: integer (nullable = true)\n",
      " |-- Online Boarding: integer (nullable = true)\n",
      " |-- Gate Location: integer (nullable = true)\n",
      " |-- On-board Service: integer (nullable = true)\n",
      " |-- Seat Comfort: integer (nullable = true)\n",
      " |-- Leg Room Service: integer (nullable = true)\n",
      " |-- Cleanliness: integer (nullable = true)\n",
      " |-- Food and Drink: integer (nullable = true)\n",
      " |-- In-flight Service: integer (nullable = true)\n",
      " |-- In-flight Entertainment: integer (nullable = true)\n",
      " |-- Baggage Handling: integer (nullable = true)\n",
      " |-- Satisfaction: string (nullable = true)\n",
      "\n",
      "attribute 'ID                                    ' have 86775 valid data\n",
      "attribute 'Gender                                ' have 86775 valid data\n",
      "attribute 'Age                                   ' have 86775 valid data\n",
      "attribute 'Customer Type                         ' have 86775 valid data\n",
      "attribute 'Cabin Type                            ' have 86775 valid data\n",
      "attribute 'Flight Distance                       ' have 86775 valid data\n",
      "attribute 'Departure Delay                       ' have 86775 valid data\n",
      "attribute 'Arrival Delay                         ' have 86775 valid data\n",
      "attribute 'Departure and Arrival Time Convenience' have 86775 valid data\n",
      "attribute 'Ease of Online Booking                ' have 86775 valid data\n",
      "attribute 'Check-in Service                      ' have 86775 valid data\n",
      "attribute 'Online Boarding                       ' have 86775 valid data\n",
      "attribute 'Gate Location                         ' have 86775 valid data\n",
      "attribute 'On-board Service                      ' have 86775 valid data\n",
      "attribute 'Seat Comfort                          ' have 86775 valid data\n",
      "attribute 'Leg Room Service                      ' have 86775 valid data\n",
      "attribute 'Cleanliness                           ' have 86775 valid data\n",
      "attribute 'Food and Drink                        ' have 86775 valid data\n",
      "attribute 'In-flight Service                     ' have 86775 valid data\n",
      "attribute 'In-flight Entertainment               ' have 86775 valid data\n",
      "attribute 'Baggage Handling                      ' have 86775 valid data\n",
      "attribute 'Satisfaction                          ' have 86775 valid data\n"
     ]
    },
    {
     "name": "stderr",
     "output_type": "stream",
     "text": [
      "\r",
      "[Stage 949:============================>                            (1 + 1) / 2]\r",
      "\r",
      "                                                                                \r"
     ]
    }
   ],
   "source": [
    "#fill all the missing values\n",
    "columns_to_fill = [\n",
    "    'Ease of Online Booking',\n",
    "    'Check-in Service',\n",
    "    'Online Boarding',\n",
    "    'Gate Location',\n",
    "    'On-board Service',\n",
    "    'Seat Comfort',\n",
    "    'Leg Room Service',\n",
    "    'Cleanliness',\n",
    "    'Food and Drink',\n",
    "    'In-flight Service',\n",
    "    'Baggage Handling'\n",
    "]\n",
    "\n",
    "for col_name in columns_to_fill:\n",
    "    random_int_udf = (rand() * 5 + 1).cast(IntegerType())\n",
    "    df_03 = df_03.withColumn(col_name, when(col(col_name).isNull(), random_int_udf).otherwise(col(col_name).cast(IntegerType())))\n",
    "    \n",
    "df_03.printSchema()\n",
    "\n",
    "attributes_count = []\n",
    "for col_name in df_03.columns:\n",
    "    valid_count = df_03.filter(col(col_name).isNotNull()).count()\n",
    "    attributes_count.append((col_name, valid_count))\n",
    "max_attr_len = max(len(attr) for attr, _ in attributes_count)\n",
    "for attr, count in attributes_count:\n",
    "    print(f\"attribute '{attr.ljust(max_attr_len)}' have {count} valid data\")\n",
    "\n",
    "\n",
    "df_03.write.csv(\"filling_data.csv\", header=True, mode=\"overwrite\")\n"
   ]
  },
  {
   "cell_type": "markdown",
   "id": "7cc8a679",
   "metadata": {},
   "source": [
    "3.3 Construct a New Feature"
   ]
  },
  {
   "cell_type": "code",
   "execution_count": 80,
   "id": "c9ebd26b",
   "metadata": {},
   "outputs": [
    {
     "data": {
      "image/png": "[encoded data removed]",
      "text/plain": [
       "<Figure size 432x288 with 1 Axes>"
      ]
     },
     "metadata": {
      "needs_background": "light"
     },
     "output_type": "display_data"
    },
    {
     "name": "stdout",
     "output_type": "stream",
     "text": [
      "+-------+------------------+\n",
      "|summary|   Flight Distance|\n",
      "+-------+------------------+\n",
      "|  count|             86775|\n",
      "|   mean|1185.3332872371075|\n",
      "| stddev|1004.0578233994374|\n",
      "|    min|                31|\n",
      "|    max|              4983|\n",
      "+-------+------------------+\n",
      "\n",
      "25% : 383.0\n",
      "50% : 762.0\n",
      "75% : 1562.0\n"
     ]
    }
   ],
   "source": [
    "file_path = \"filling_data.csv\"\n",
    "df_03 = spark.read.csv(file_path, header=True, inferSchema=True, encoding='ISO-8859-1')\n",
    "\n",
    "flight_distance_data = df_03.select('Flight Distance').toPandas()\n",
    "flight_distance_data.hist()\n",
    "plt.title('Flight Distance')\n",
    "plt.show()\n",
    "\n",
    "flight_distance_stats = df_03.describe('Flight Distance')\n",
    "flight_distance_stats.show()\n",
    "quantiles = df_03.approxQuantile(\"Flight Distance\", [0.25, 0.50, 0.75], 0.05)\n",
    "\n",
    "print(f\"25% : {quantiles[0]}\")\n",
    "print(f\"50% : {quantiles[1]}\")\n",
    "print(f\"75% : {quantiles[2]}\")"
   ]
  },
  {
   "cell_type": "code",
   "execution_count": 81,
   "id": "a90fb24d",
   "metadata": {},
   "outputs": [
    {
     "name": "stdout",
     "output_type": "stream",
     "text": [
      "+-----------------+\n",
      "|   Distance Group|\n",
      "+-----------------+\n",
      "|   short distance|\n",
      "|moderate distance|\n",
      "|    long distance|\n",
      "|    long distance|\n",
      "|    long distance|\n",
      "|    long distance|\n",
      "|moderate distance|\n",
      "|    long distance|\n",
      "|   short distance|\n",
      "|moderate distance|\n",
      "|   short distance|\n",
      "|   short distance|\n",
      "|   short distance|\n",
      "|moderate distance|\n",
      "|   short distance|\n",
      "|moderate distance|\n",
      "|   short distance|\n",
      "|   short distance|\n",
      "|    long distance|\n",
      "|    long distance|\n",
      "+-----------------+\n",
      "only showing top 20 rows\n",
      "\n",
      "root\n",
      " |-- ID: integer (nullable = true)\n",
      " |-- Gender: string (nullable = true)\n",
      " |-- Age: integer (nullable = true)\n",
      " |-- Customer Type: string (nullable = true)\n",
      " |-- Cabin Type: string (nullable = true)\n",
      " |-- Flight Distance: integer (nullable = true)\n",
      " |-- Departure Delay: integer (nullable = true)\n",
      " |-- Arrival Delay: integer (nullable = true)\n",
      " |-- Departure and Arrival Time Convenience: integer (nullable = true)\n",
      " |-- Ease of Online Booking: integer (nullable = true)\n",
      " |-- Check-in Service: integer (nullable = true)\n",
      " |-- Online Boarding: integer (nullable = true)\n",
      " |-- Gate Location: integer (nullable = true)\n",
      " |-- On-board Service: integer (nullable = true)\n",
      " |-- Seat Comfort: integer (nullable = true)\n",
      " |-- Leg Room Service: integer (nullable = true)\n",
      " |-- Cleanliness: integer (nullable = true)\n",
      " |-- Food and Drink: integer (nullable = true)\n",
      " |-- In-flight Service: integer (nullable = true)\n",
      " |-- In-flight Entertainment: integer (nullable = true)\n",
      " |-- Baggage Handling: integer (nullable = true)\n",
      " |-- Satisfaction: string (nullable = true)\n",
      " |-- Distance Group: string (nullable = false)\n",
      "\n"
     ]
    }
   ],
   "source": [
    "bins = [0, 833, 1744, float('inf')]\n",
    "labels = ['short distance', 'moderate distance', 'long distance']\n",
    "\n",
    "df_with_group = df_03.withColumn(\"Distance Group\",\n",
    "    when(df_03[\"Flight Distance\"] <= bins[1], labels[0])\n",
    "    .when((df_03[\"Flight Distance\"] > bins[1]) & (df_03[\"Flight Distance\"] <= bins[2]), labels[1])\n",
    "    .otherwise(labels[2]))\n",
    "\n",
    "df_with_group.select(\"Distance Group\").show()\n",
    "df_with_group.printSchema()"
   ]
  },
  {
   "cell_type": "code",
   "execution_count": 82,
   "id": "7ecea71c",
   "metadata": {},
   "outputs": [
    {
     "data": {
      "image/png": "[encoded data removed]",
      "text/plain": [
       "<Figure size 432x288 with 1 Axes>"
      ]
     },
     "metadata": {
      "needs_background": "light"
     },
     "output_type": "display_data"
    }
   ],
   "source": [
    "df_with_group.write.csv(\"with_group.csv\", header=True, mode=\"overwrite\")\n",
    "file = 'with_group.csv'\n",
    "df_03 = spark.read.csv(file, header=True, inferSchema=True, encoding='ISO-8859-1')\n",
    "distance_group_counts = df_03.groupBy('Distance Group').count()\n",
    "pandas_df = distance_group_counts.toPandas()\n",
    "pandas_df.plot(kind='bar', x='Distance Group', y='count', title='Distance Group Frequency', legend=False)\n",
    "plt.xlabel('Distance Group')\n",
    "plt.ylabel('Count')\n",
    "plt.show()"
   ]
  },
  {
   "cell_type": "markdown",
   "id": "06f01d37",
   "metadata": {},
   "source": [
    "3.4 Integrate various data sources"
   ]
  },
  {
   "cell_type": "code",
   "execution_count": 83,
   "id": "bb01030b",
   "metadata": {},
   "outputs": [
    {
     "name": "stdout",
     "output_type": "stream",
     "text": [
      "root\n",
      " |-- EntertainmentRating: integer (nullable = true)\n",
      " |-- FoodRating: integer (nullable = true)\n",
      " |-- GroundServiceRating: integer (nullable = true)\n",
      " |-- OverallScore: integer (nullable = true)\n",
      " |-- Recommended: string (nullable = true)\n",
      " |-- SeatComfortRating: integer (nullable = true)\n",
      " |-- ServiceRating: integer (nullable = true)\n",
      " |-- ValueRating: integer (nullable = true)\n",
      " |-- WifiRating: integer (nullable = true)\n",
      " |-- ID: integer (nullable = true)\n",
      "\n"
     ]
    }
   ],
   "source": [
    "df_03 = spark.read.csv('AirlineReviews.csv', header=True, inferSchema=True, encoding='ISO-8859-1')\n",
    "\n",
    "df_03.printSchema()"
   ]
  },
  {
   "cell_type": "code",
   "execution_count": 84,
   "id": "a0e9c2ca",
   "metadata": {},
   "outputs": [
    {
     "name": "stdout",
     "output_type": "stream",
     "text": [
      "root\n",
      " |-- ID: integer (nullable = true)\n",
      " |-- Gender: string (nullable = true)\n",
      " |-- Age: integer (nullable = true)\n",
      " |-- Customer Type: string (nullable = true)\n",
      " |-- Cabin Type: string (nullable = true)\n",
      " |-- Flight Distance: integer (nullable = true)\n",
      " |-- Departure Delay: integer (nullable = true)\n",
      " |-- Arrival Delay: integer (nullable = true)\n",
      " |-- Departure and Arrival Time Convenience: integer (nullable = true)\n",
      " |-- Ease of Online Booking: integer (nullable = true)\n",
      " |-- Check-in Service: integer (nullable = true)\n",
      " |-- Online Boarding: integer (nullable = true)\n",
      " |-- Gate Location: integer (nullable = true)\n",
      " |-- On-board Service: integer (nullable = true)\n",
      " |-- Seat Comfort: integer (nullable = true)\n",
      " |-- Leg Room Service: integer (nullable = true)\n",
      " |-- Cleanliness: integer (nullable = true)\n",
      " |-- Food and Drink: integer (nullable = true)\n",
      " |-- In-flight Service: integer (nullable = true)\n",
      " |-- In-flight Entertainment: integer (nullable = true)\n",
      " |-- Baggage Handling: integer (nullable = true)\n",
      " |-- Satisfaction: string (nullable = true)\n",
      " |-- Distance Group: string (nullable = true)\n",
      "\n",
      "root\n",
      " |-- EntertainmentRating: integer (nullable = true)\n",
      " |-- FoodRating: integer (nullable = true)\n",
      " |-- GroundServiceRating: integer (nullable = true)\n",
      " |-- OverallScore: integer (nullable = true)\n",
      " |-- Recommended: string (nullable = true)\n",
      " |-- SeatComfortRating: integer (nullable = true)\n",
      " |-- ServiceRating: integer (nullable = true)\n",
      " |-- ValueRating: integer (nullable = true)\n",
      " |-- WifiRating: integer (nullable = true)\n",
      " |-- ID: integer (nullable = true)\n",
      "\n",
      "root\n",
      " |-- ID: integer (nullable = true)\n",
      " |-- Gender: string (nullable = true)\n",
      " |-- Age: integer (nullable = true)\n",
      " |-- Customer Type: string (nullable = true)\n",
      " |-- Cabin Type: string (nullable = true)\n",
      " |-- Flight Distance: integer (nullable = true)\n",
      " |-- Departure Delay: integer (nullable = true)\n",
      " |-- Arrival Delay: integer (nullable = true)\n",
      " |-- Departure and Arrival Time Convenience: integer (nullable = true)\n",
      " |-- Ease of Online Booking: integer (nullable = true)\n",
      " |-- Check-in Service: integer (nullable = true)\n",
      " |-- Online Boarding: integer (nullable = true)\n",
      " |-- Gate Location: integer (nullable = true)\n",
      " |-- On-board Service: integer (nullable = true)\n",
      " |-- Seat Comfort: integer (nullable = true)\n",
      " |-- Leg Room Service: integer (nullable = true)\n",
      " |-- Cleanliness: integer (nullable = true)\n",
      " |-- Food and Drink: integer (nullable = true)\n",
      " |-- In-flight Service: integer (nullable = true)\n",
      " |-- In-flight Entertainment: integer (nullable = true)\n",
      " |-- Baggage Handling: integer (nullable = true)\n",
      " |-- Satisfaction: string (nullable = true)\n",
      " |-- Distance Group: string (nullable = true)\n",
      " |-- EntertainmentRating: integer (nullable = true)\n",
      " |-- FoodRating: integer (nullable = true)\n",
      " |-- GroundServiceRating: integer (nullable = true)\n",
      " |-- OverallScore: integer (nullable = true)\n",
      " |-- Recommended: string (nullable = true)\n",
      " |-- SeatComfortRating: integer (nullable = true)\n",
      " |-- ServiceRating: integer (nullable = true)\n",
      " |-- ValueRating: integer (nullable = true)\n",
      " |-- WifiRating: integer (nullable = true)\n",
      "\n"
     ]
    }
   ],
   "source": [
    "# Read the first CSV file\n",
    "file1 = 'with_group.csv'\n",
    "df1 = spark.read.csv(file1, header=True, inferSchema=True, encoding='ISO-8859-1')\n",
    "df1.printSchema()\n",
    "\n",
    "# Read the second CSV file\n",
    "file2 = 'AirlineReviews.csv'\n",
    "df2 = spark.read.csv(file2, header=True, inferSchema=True, encoding='ISO-8859-1')\n",
    "df2.printSchema()\n",
    "\n",
    "# Merge the two datasets on the 'ID' column\n",
    "df_03 = df1.join(df2, 'ID')\n",
    "df_03.printSchema()"
   ]
  },
  {
   "cell_type": "code",
   "execution_count": 29,
   "id": "26e92a30",
   "metadata": {},
   "outputs": [
    {
     "name": "stderr",
     "output_type": "stream",
     "text": [
      "\r",
      "[Stage 200:>                                                        (0 + 1) / 1]\r",
      "\r",
      "                                                                                \r"
     ]
    },
    {
     "name": "stdout",
     "output_type": "stream",
     "text": [
      "+---+------+---+-------------+------------+---------------+---------------+-------------+--------------------------------------+----------------------+----------------+---------------+-------------+----------------+------------+----------------+-----------+--------------+-----------------+-----------------------+----------------+-----------------------+-----------------+-------------------+----------+-------------------+------------+-----------+-----------------+-------------+-----------+----------+\n",
      "|ID |Gender|Age|Customer Type|Cabin Type  |Flight Distance|Departure Delay|Arrival Delay|Departure and Arrival Time Convenience|Ease of Online Booking|Check-in Service|Online Boarding|Gate Location|On-board Service|Seat Comfort|Leg Room Service|Cleanliness|Food and Drink|In-flight Service|In-flight Entertainment|Baggage Handling|Satisfaction           |Distance Group   |EntertainmentRating|FoodRating|GroundServiceRating|OverallScore|Recommended|SeatComfortRating|ServiceRating|ValueRating|WifiRating|\n",
      "+---+------+---+-------------+------------+---------------+---------------+-------------+--------------------------------------+----------------------+----------------+---------------+-------------+----------------+------------+----------------+-----------+--------------+-----------------+-----------------------+----------------+-----------------------+-----------------+-------------------+----------+-------------------+------------+-----------+-----------------+-------------+-----------+----------+\n",
      "|1  |Male  |48 |First-time   |Business    |821            |2              |5            |3                                     |3                     |4               |3              |3            |3               |5           |2               |5          |5             |5                |5                      |5               |Neutral or Dissatisfied|short distance   |0                  |4         |4                  |9           |yes        |4                |5            |3          |0         |\n",
      "|3  |Male  |41 |Returning    |Business    |853            |0              |0            |4                                     |4                     |4               |5              |4            |3               |5           |3               |5          |5             |3                |3                      |3               |Satisfied              |moderate distance|0                  |1         |1                  |1           |no         |2                |1            |2          |0         |\n",
      "|4  |Male  |50 |Returning    |Business    |1905           |0              |0            |2                                     |2                     |3               |4              |2            |5               |5           |5               |4          |4             |5                |5                      |5               |Satisfied              |long distance    |0                  |0         |0                  |8           |yes        |0                |0            |4          |0         |\n",
      "|5  |Female|49 |Returning    |Business    |3470           |0              |1            |3                                     |3                     |3               |5              |3            |3               |4           |4               |5          |4             |3                |3                      |3               |Satisfied              |long distance    |0                  |0         |0                  |1           |no         |0                |0            |0          |0         |\n",
      "|6  |Male  |43 |Returning    |Business    |3788           |0              |0            |4                                     |4                     |3               |5              |4            |4               |4           |1               |3          |3             |4                |4                      |4               |Satisfied              |long distance    |0                  |0         |0                  |1           |no         |0                |0            |0          |0         |\n",
      "|7  |Male  |43 |Returning    |Business    |1963           |0              |0            |3                                     |3                     |4               |4              |3            |5               |5           |5               |4          |5             |5                |5                      |5               |Satisfied              |long distance    |0                  |1         |1                  |2           |no         |1                |3            |1          |0         |\n",
      "|8  |Female|60 |Returning    |Business    |853            |0              |3            |3                                     |4                     |3               |4              |4            |3               |4           |4               |4          |4             |3                |3                      |3               |Satisfied              |moderate distance|0                  |0         |5                  |9           |yes        |4                |4            |4          |0         |\n",
      "|9  |Male  |50 |Returning    |Business    |2607           |0              |0            |1                                     |1                     |3               |2              |1            |4               |3           |4               |3          |3             |4                |4                      |4               |Neutral or Dissatisfied|long distance    |0                  |0         |5                  |9           |yes        |4                |5            |4          |0         |\n",
      "|11 |Female|28 |First-time   |Business    |821            |0              |5            |1                                     |1                     |3               |1              |3            |2               |2           |5               |2          |2             |4                |2                      |3               |Neutral or Dissatisfied|short distance   |0                  |0         |1                  |1           |no         |1                |1            |1          |0         |\n",
      "|15 |Male  |52 |Returning    |Economy     |853            |0              |0            |4                                     |2                     |3               |2              |4            |3               |2           |3               |2          |2             |5                |2                      |5               |Neutral or Dissatisfied|moderate distance|1                  |1         |1                  |1           |no         |1                |1            |1          |1         |\n",
      "|16 |Male  |70 |Returning    |Economy     |821            |0              |0            |5                                     |2                     |4               |2              |1            |4               |5           |2               |5          |5             |5                |5                      |4               |Neutral or Dissatisfied|short distance   |1                  |1         |1                  |1           |no         |1                |2            |1          |1         |\n",
      "|17 |Female|48 |Returning    |Economy     |821            |0              |0            |3                                     |2                     |5               |5              |3            |5               |1           |2               |2          |1             |5                |5                      |5               |Neutral or Dissatisfied|short distance   |0                  |3         |5                  |8           |yes        |4                |4            |5          |0         |\n",
      "|18 |Female|61 |Returning    |Economy     |821            |0              |0            |5                                     |2                     |5               |1              |1            |5               |5           |2               |1          |4             |5                |5                      |5               |Neutral or Dissatisfied|short distance   |1                  |0         |1                  |1           |no         |2                |1            |1          |1         |\n",
      "|19 |Female|11 |Returning    |Economy     |853            |0              |0            |5                                     |3                     |5               |3              |2            |3               |5           |2               |5          |5             |5                |5                      |4               |Neutral or Dissatisfied|moderate distance|0                  |1         |4                  |1           |no         |4                |1            |1          |0         |\n",
      "|20 |Female|42 |Returning    |Economy     |821            |4              |0            |3                                     |3                     |3               |3              |4            |1               |4           |3               |3          |1             |1                |1                      |1               |Neutral or Dissatisfied|short distance   |0                  |0         |3                  |2           |no         |3                |3            |2          |0         |\n",
      "|22 |Female|70 |Returning    |Economy     |853            |0              |0            |4                                     |1                     |4               |4              |2            |1               |4           |1               |4          |2             |1                |1                      |1               |Neutral or Dissatisfied|moderate distance|0                  |0         |1                  |3           |no         |3                |3            |1          |0         |\n",
      "|23 |Female|56 |Returning    |Economy     |821            |0              |0            |4                                     |3                     |4               |4              |3            |5               |3           |3               |4          |3             |5                |5                      |5               |Neutral or Dissatisfied|short distance   |0                  |5         |5                  |10          |yes        |5                |5            |5          |0         |\n",
      "|24 |Male  |77 |Returning    |Economy Plus|821            |0              |0            |5                                     |5                     |1               |4              |5            |4               |4           |5               |4          |4             |2                |4                      |3               |Neutral or Dissatisfied|short distance   |1                  |1         |1                  |1           |no         |2                |1            |1          |1         |\n",
      "|25 |Male  |51 |Returning    |Business    |3460           |0              |2            |3                                     |3                     |5               |4              |3            |5               |5           |4               |4          |2             |5                |5                      |5               |Satisfied              |long distance    |0                  |1         |1                  |3           |no         |2                |4            |3          |0         |\n",
      "|28 |Male  |58 |Returning    |Business    |2867           |0              |0            |5                                     |0                     |4               |5              |4            |3               |5           |3               |5          |5             |3                |3                      |3               |Satisfied              |long distance    |0                  |1         |1                  |2           |no         |3                |4            |2          |1         |\n",
      "+---+------+---+-------------+------------+---------------+---------------+-------------+--------------------------------------+----------------------+----------------+---------------+-------------+----------------+------------+----------------+-----------+--------------+-----------------+-----------------------+----------------+-----------------------+-----------------+-------------------+----------+-------------------+------------+-----------+-----------------+-------------+-----------+----------+\n",
      "only showing top 20 rows\n",
      "\n"
     ]
    },
    {
     "name": "stdout",
     "output_type": "stream",
     "text": [
      "+---+------+---+-------------+------------+---------------+---------------+-------------+--------------------------------------+----------------------+----------------+---------------+-------------+----------------+------------+----------------+-----------+--------------+-----------------+-----------------------+----------------+--------------------+-----------------+-------------------+----------+-------------------+------------+-----------+-----------------+-------------+-----------+----------+\n",
      "| ID|Gender|Age|Customer Type|  Cabin Type|Flight Distance|Departure Delay|Arrival Delay|Departure and Arrival Time Convenience|Ease of Online Booking|Check-in Service|Online Boarding|Gate Location|On-board Service|Seat Comfort|Leg Room Service|Cleanliness|Food and Drink|In-flight Service|In-flight Entertainment|Baggage Handling|        Satisfaction|   Distance Group|EntertainmentRating|FoodRating|GroundServiceRating|OverallScore|Recommended|SeatComfortRating|ServiceRating|ValueRating|WifiRating|\n",
      "+---+------+---+-------------+------------+---------------+---------------+-------------+--------------------------------------+----------------------+----------------+---------------+-------------+----------------+------------+----------------+-----------+--------------+-----------------+-----------------------+----------------+--------------------+-----------------+-------------------+----------+-------------------+------------+-----------+-----------------+-------------+-----------+----------+\n",
      "|  1|  Male| 48|   First-time|    Business|            821|              2|            5|                                     3|                     3|               4|              3|            3|               3|           5|               2|          5|             5|                5|                      5|               5|Neutral or Dissat...|   short distance|                  0|         4|                  4|           9|        yes|                4|            5|          3|         0|\n",
      "|  3|  Male| 41|    Returning|    Business|            853|              0|            0|                                     4|                     4|               4|              5|            4|               3|           5|               3|          5|             5|                3|                      3|               3|           Satisfied|moderate distance|                  0|         1|                  1|           1|         no|                2|            1|          2|         0|\n",
      "|  4|  Male| 50|    Returning|    Business|           1905|              0|            0|                                     2|                     2|               3|              4|            2|               5|           5|               5|          4|             4|                5|                      5|               5|           Satisfied|    long distance|                  0|         0|                  0|           8|        yes|                0|            0|          4|         0|\n",
      "|  5|Female| 49|    Returning|    Business|           3470|              0|            1|                                     3|                     3|               3|              5|            3|               3|           4|               4|          5|             4|                3|                      3|               3|           Satisfied|    long distance|                  0|         0|                  0|           1|         no|                0|            0|          0|         0|\n",
      "|  6|  Male| 43|    Returning|    Business|           3788|              0|            0|                                     4|                     4|               3|              5|            4|               4|           4|               1|          3|             3|                4|                      4|               4|           Satisfied|    long distance|                  0|         0|                  0|           1|         no|                0|            0|          0|         0|\n",
      "|  7|  Male| 43|    Returning|    Business|           1963|              0|            0|                                     3|                     3|               4|              4|            3|               5|           5|               5|          4|             5|                5|                      5|               5|           Satisfied|    long distance|                  0|         1|                  1|           2|         no|                1|            3|          1|         0|\n",
      "|  8|Female| 60|    Returning|    Business|            853|              0|            3|                                     3|                     4|               3|              4|            4|               3|           4|               4|          4|             4|                3|                      3|               3|           Satisfied|moderate distance|                  0|         0|                  5|           9|        yes|                4|            4|          4|         0|\n",
      "|  9|  Male| 50|    Returning|    Business|           2607|              0|            0|                                     1|                     1|               3|              2|            1|               4|           3|               4|          3|             3|                4|                      4|               4|Neutral or Dissat...|    long distance|                  0|         0|                  5|           9|        yes|                4|            5|          4|         0|\n",
      "| 11|Female| 28|   First-time|    Business|            821|              0|            5|                                     1|                     1|               3|              1|            3|               2|           2|               5|          2|             2|                4|                      2|               3|Neutral or Dissat...|   short distance|                  0|         0|                  1|           1|         no|                1|            1|          1|         0|\n",
      "| 15|  Male| 52|    Returning|     Economy|            853|              0|            0|                                     4|                     2|               3|              2|            4|               3|           2|               3|          2|             2|                5|                      2|               5|Neutral or Dissat...|moderate distance|                  1|         1|                  1|           1|         no|                1|            1|          1|         1|\n",
      "| 16|  Male| 70|    Returning|     Economy|            821|              0|            0|                                     5|                     2|               4|              2|            1|               4|           5|               2|          5|             5|                5|                      5|               4|Neutral or Dissat...|   short distance|                  1|         1|                  1|           1|         no|                1|            2|          1|         1|\n",
      "| 17|Female| 48|    Returning|     Economy|            821|              0|            0|                                     3|                     2|               5|              5|            3|               5|           1|               2|          2|             1|                5|                      5|               5|Neutral or Dissat...|   short distance|                  0|         3|                  5|           8|        yes|                4|            4|          5|         0|\n",
      "| 18|Female| 61|    Returning|     Economy|            821|              0|            0|                                     5|                     2|               5|              1|            1|               5|           5|               2|          1|             4|                5|                      5|               5|Neutral or Dissat...|   short distance|                  1|         0|                  1|           1|         no|                2|            1|          1|         1|\n",
      "| 19|Female| 11|    Returning|     Economy|            853|              0|            0|                                     5|                     3|               5|              3|            2|               3|           5|               2|          5|             5|                5|                      5|               4|Neutral or Dissat...|moderate distance|                  0|         1|                  4|           1|         no|                4|            1|          1|         0|\n",
      "| 20|Female| 42|    Returning|     Economy|            821|              4|            0|                                     3|                     3|               3|              3|            4|               1|           4|               3|          3|             1|                1|                      1|               1|Neutral or Dissat...|   short distance|                  0|         0|                  3|           2|         no|                3|            3|          2|         0|\n",
      "| 22|Female| 70|    Returning|     Economy|            853|              0|            0|                                     4|                     1|               4|              4|            2|               1|           4|               1|          4|             2|                1|                      1|               1|Neutral or Dissat...|moderate distance|                  0|         0|                  1|           3|         no|                3|            3|          1|         0|\n",
      "| 23|Female| 56|    Returning|     Economy|            821|              0|            0|                                     4|                     3|               4|              4|            3|               5|           3|               3|          4|             3|                5|                      5|               5|Neutral or Dissat...|   short distance|                  0|         5|                  5|          10|        yes|                5|            5|          5|         0|\n",
      "| 24|  Male| 77|    Returning|Economy Plus|            821|              0|            0|                                     5|                     5|               1|              4|            5|               4|           4|               5|          4|             4|                2|                      4|               3|Neutral or Dissat...|   short distance|                  1|         1|                  1|           1|         no|                2|            1|          1|         1|\n",
      "| 25|  Male| 51|    Returning|    Business|           3460|              0|            2|                                     3|                     3|               5|              4|            3|               5|           5|               4|          4|             2|                5|                      5|               5|           Satisfied|    long distance|                  0|         1|                  1|           3|         no|                2|            4|          3|         0|\n",
      "| 28|  Male| 58|    Returning|    Business|           2867|              0|            0|                                     5|                     0|               4|              5|            4|               3|           5|               3|          5|             5|                3|                      3|               3|           Satisfied|    long distance|                  0|         1|                  1|           2|         no|                3|            4|          2|         1|\n",
      "| 31|  Male| 35|   First-time|    Business|            212|              0|            0|                                     2|                     2|               5|              2|            1|               4|           2|               5|          2|             2|                4|                      2|               5|Neutral or Dissat...|   short distance|                  0|         0|                  5|          10|        yes|                5|            5|          4|         0|\n",
      "| 32|  Male| 21|   First-time|     Economy|            173|              0|            0|                                     0|                     4|               3|              4|            4|               5|           3|               5|          3|             3|                4|                      3|               4|           Satisfied|   short distance|                  0|         3|                  3|           8|        yes|                4|            4|          4|         0|\n",
      "| 34|Female| 48|    Returning|    Business|            173|              0|            0|                                     5|                     0|               5|              5|            4|               5|           4|               5|          4|             3|                5|                      5|               5|           Satisfied|   short distance|                  1|         2|                  3|           2|         no|                1|            1|          1|         0|\n",
      "| 36|Female| 42|    Returning|    Business|           2884|              0|            0|                                     2|                     5|               3|              4|            5|               5|           5|               5|          4|             2|                5|                      5|               5|           Satisfied|    long distance|                  0|         0|                  4|           3|         no|                2|            2|          4|         0|\n",
      "| 38|Female| 51|    Returning|    Business|            215|              0|            0|                                     4|                     4|               4|              4|            4|               5|           5|               4|          3|             3|                5|                      5|               5|           Satisfied|   short distance|                  0|         0|                  1|           3|         no|                4|            5|          3|         0|\n",
      "| 39|Female| 46|    Returning|    Business|             67|              0|            0|                                     3|                     3|               5|              5|            3|               4|           4|               4|          5|             4|                4|                      4|               4|           Satisfied|   short distance|                  0|         5|                  5|          10|        yes|                5|            5|          5|         0|\n",
      "+---+------+---+-------------+------------+---------------+---------------+-------------+--------------------------------------+----------------------+----------------+---------------+-------------+----------------+------------+----------------+-----------+--------------+-----------------+-----------------------+----------------+--------------------+-----------------+-------------------+----------+-------------------+------------+-----------+-----------------+-------------+-----------+----------+\n",
      "only showing top 26 rows\n",
      "\n"
     ]
    }
   ],
   "source": [
    "df_03.show(truncate=False)\n",
    "df_03.show(26)"
   ]
  },
  {
   "cell_type": "code",
   "execution_count": 85,
   "id": "43fec081",
   "metadata": {},
   "outputs": [
    {
     "name": "stderr",
     "output_type": "stream",
     "text": [
      "                                                                                \r"
     ]
    }
   ],
   "source": [
    "df_03.write.csv('merged_dataset.csv', header=True, mode='overwrite')"
   ]
  },
  {
   "cell_type": "code",
   "execution_count": 86,
   "id": "3c52ad98",
   "metadata": {},
   "outputs": [
    {
     "data": {
      "text/plain": [
       "['ID',\n",
       " 'Gender',\n",
       " 'Age',\n",
       " 'Customer Type',\n",
       " 'Cabin Type',\n",
       " 'Flight Distance',\n",
       " 'Departure Delay',\n",
       " 'Arrival Delay',\n",
       " 'Departure and Arrival Time Convenience',\n",
       " 'Ease of Online Booking',\n",
       " 'Check-in Service',\n",
       " 'Online Boarding',\n",
       " 'Gate Location',\n",
       " 'On-board Service',\n",
       " 'Seat Comfort',\n",
       " 'Leg Room Service',\n",
       " 'Cleanliness',\n",
       " 'Food and Drink',\n",
       " 'In-flight Service',\n",
       " 'In-flight Entertainment',\n",
       " 'Baggage Handling',\n",
       " 'Satisfaction',\n",
       " 'Distance Group',\n",
       " 'EntertainmentRating',\n",
       " 'FoodRating',\n",
       " 'GroundServiceRating',\n",
       " 'OverallScore',\n",
       " 'Recommended',\n",
       " 'SeatComfortRating',\n",
       " 'ServiceRating',\n",
       " 'ValueRating',\n",
       " 'WifiRating']"
      ]
     },
     "execution_count": 86,
     "metadata": {},
     "output_type": "execute_result"
    }
   ],
   "source": [
    "file = 'merged_dataset.csv'\n",
    "df_03 = spark.read.csv(file, header=True, inferSchema=True, encoding='ISO-8859-1')\n",
    "\n",
    "df_03.columns\n"
   ]
  },
  {
   "cell_type": "code",
   "execution_count": 87,
   "id": "d5dfe335",
   "metadata": {},
   "outputs": [
    {
     "name": "stdout",
     "output_type": "stream",
     "text": [
      "Column Name                                Data Type\n",
      "ID                                         int\n",
      "Gender                                     string\n",
      "Age                                        int\n",
      "Customer Type                              string\n",
      "Cabin Type                                 string\n",
      "Flight Distance                            int\n",
      "Departure Delay                            int\n",
      "Arrival Delay                              int\n",
      "Departure and Arrival Time Convenience     int\n",
      "Ease of Online Booking                     int\n",
      "Check-in Service                           int\n",
      "Online Boarding                            int\n",
      "Gate Location                              int\n",
      "On-board Service                           int\n",
      "Seat Comfort                               int\n",
      "Leg Room Service                           int\n",
      "Cleanliness                                int\n",
      "Food and Drink                             int\n",
      "In-flight Service                          int\n",
      "In-flight Entertainment                    int\n",
      "Baggage Handling                           int\n",
      "Satisfaction                               string\n",
      "Distance Group                             string\n",
      "EntertainmentRating                        int\n",
      "FoodRating                                 int\n",
      "GroundServiceRating                        int\n",
      "OverallScore                               int\n",
      "Recommended                                string\n",
      "SeatComfortRating                          int\n",
      "ServiceRating                              int\n",
      "ValueRating                                int\n",
      "WifiRating                                 int\n"
     ]
    }
   ],
   "source": [
    "data_types = df_03.dtypes\n",
    "max_len = max(len(name) for name, _ in data_types)\n",
    "print(\"Column Name\".ljust(max_len + 5) + \"Data Type\")\n",
    "for name, dtype in data_types:\n",
    "    print(name.ljust(max_len + 5) + dtype)"
   ]
  },
  {
   "cell_type": "code",
   "execution_count": 33,
   "id": "08b3406a",
   "metadata": {},
   "outputs": [
    {
     "name": "stdout",
     "output_type": "stream",
     "text": [
      "attribute 'ID                                    ' have 86455 valid data\n",
      "attribute 'Gender                                ' have 86455 valid data\n",
      "attribute 'Age                                   ' have 86455 valid data\n",
      "attribute 'Customer Type                         ' have 86455 valid data\n",
      "attribute 'Cabin Type                            ' have 86455 valid data\n",
      "attribute 'Flight Distance                       ' have 86455 valid data\n",
      "attribute 'Departure Delay                       ' have 86455 valid data\n",
      "attribute 'Arrival Delay                         ' have 86455 valid data\n",
      "attribute 'Departure and Arrival Time Convenience' have 86455 valid data\n",
      "attribute 'Ease of Online Booking                ' have 86455 valid data\n",
      "attribute 'Check-in Service                      ' have 86455 valid data\n",
      "attribute 'Online Boarding                       ' have 86455 valid data\n",
      "attribute 'Gate Location                         ' have 86455 valid data\n",
      "attribute 'On-board Service                      ' have 86455 valid data\n",
      "attribute 'Seat Comfort                          ' have 86455 valid data\n",
      "attribute 'Leg Room Service                      ' have 86455 valid data\n",
      "attribute 'Cleanliness                           ' have 86455 valid data\n",
      "attribute 'Food and Drink                        ' have 86455 valid data\n",
      "attribute 'In-flight Service                     ' have 86455 valid data\n",
      "attribute 'In-flight Entertainment               ' have 86455 valid data\n",
      "attribute 'Baggage Handling                      ' have 86455 valid data\n",
      "attribute 'Satisfaction                          ' have 86455 valid data\n",
      "attribute 'Distance Group                        ' have 86455 valid data\n",
      "attribute 'EntertainmentRating                   ' have 86455 valid data\n",
      "attribute 'FoodRating                            ' have 86455 valid data\n",
      "attribute 'GroundServiceRating                   ' have 86455 valid data\n",
      "attribute 'OverallScore                          ' have 83608 valid data\n",
      "attribute 'Recommended                           ' have 86455 valid data\n",
      "attribute 'SeatComfortRating                     ' have 86455 valid data\n",
      "attribute 'ServiceRating                         ' have 86455 valid data\n",
      "attribute 'ValueRating                           ' have 86455 valid data\n",
      "attribute 'WifiRating                            ' have 86455 valid data\n"
     ]
    }
   ],
   "source": [
    "attributes_count = []\n",
    "for col_name in df_03.columns:\n",
    "    valid_count = df_03.filter(col(col_name).isNotNull()).count()\n",
    "    attributes_count.append((col_name, valid_count))\n",
    "max_attr_len = max(len(attr) for attr, _ in attributes_count)\n",
    "for attr, count in attributes_count:\n",
    "    print(f\"attribute '{attr.ljust(max_attr_len)}' have {count} valid data\")\n"
   ]
  },
  {
   "cell_type": "code",
   "execution_count": 34,
   "id": "c331eaad",
   "metadata": {},
   "outputs": [
    {
     "name": "stdout",
     "output_type": "stream",
     "text": [
      "attribute 'ID                                    ' have 86455 valid data\n",
      "attribute 'Gender                                ' have 86455 valid data\n",
      "attribute 'Age                                   ' have 86455 valid data\n",
      "attribute 'Customer Type                         ' have 86455 valid data\n",
      "attribute 'Cabin Type                            ' have 86455 valid data\n",
      "attribute 'Flight Distance                       ' have 86455 valid data\n",
      "attribute 'Departure Delay                       ' have 86455 valid data\n",
      "attribute 'Arrival Delay                         ' have 86455 valid data\n",
      "attribute 'Departure and Arrival Time Convenience' have 86455 valid data\n",
      "attribute 'Ease of Online Booking                ' have 86455 valid data\n",
      "attribute 'Check-in Service                      ' have 86455 valid data\n",
      "attribute 'Online Boarding                       ' have 86455 valid data\n",
      "attribute 'Gate Location                         ' have 86455 valid data\n",
      "attribute 'On-board Service                      ' have 86455 valid data\n",
      "attribute 'Seat Comfort                          ' have 86455 valid data\n",
      "attribute 'Leg Room Service                      ' have 86455 valid data\n",
      "attribute 'Cleanliness                           ' have 86455 valid data\n",
      "attribute 'Food and Drink                        ' have 86455 valid data\n",
      "attribute 'In-flight Service                     ' have 86455 valid data\n",
      "attribute 'In-flight Entertainment               ' have 86455 valid data\n",
      "attribute 'Baggage Handling                      ' have 86455 valid data\n",
      "attribute 'Satisfaction                          ' have 86455 valid data\n",
      "attribute 'Distance Group                        ' have 86455 valid data\n",
      "attribute 'EntertainmentRating                   ' have 86455 valid data\n",
      "attribute 'FoodRating                            ' have 86455 valid data\n",
      "attribute 'GroundServiceRating                   ' have 86455 valid data\n",
      "attribute 'OverallScore                          ' have 86455 valid data\n",
      "attribute 'Recommended                           ' have 86455 valid data\n",
      "attribute 'SeatComfortRating                     ' have 86455 valid data\n",
      "attribute 'ServiceRating                         ' have 86455 valid data\n",
      "attribute 'ValueRating                           ' have 86455 valid data\n",
      "attribute 'WifiRating                            ' have 86455 valid data\n"
     ]
    }
   ],
   "source": [
    "import numpy as np\n",
    "filled_df = df_03.withColumn(\"OverallScore\", when(col(\"OverallScore\").isNull(), \n",
    "            np.random.randint(1, 11)).otherwise(col(\"OverallScore\")))\n",
    "attributes_count = []\n",
    "for col_name in filled_df.columns:\n",
    "    valid_count = filled_df.filter(col(col_name).isNotNull()).count()\n",
    "    attributes_count.append((col_name, valid_count))\n",
    "max_attr_len = max(len(attr) for attr, _ in attributes_count)\n",
    "for attr, count in attributes_count:\n",
    "    print(f\"attribute '{attr.ljust(max_attr_len)}' have {count} valid data\")"
   ]
  },
  {
   "cell_type": "code",
   "execution_count": 88,
   "id": "7a3a2587",
   "metadata": {},
   "outputs": [
    {
     "name": "stderr",
     "output_type": "stream",
     "text": [
      "                                                                                \r"
     ]
    },
    {
     "data": {
      "text/plain": [
       "['ID',\n",
       " 'Gender',\n",
       " 'Age',\n",
       " 'Customer Type',\n",
       " 'Cabin Type',\n",
       " 'Flight Distance',\n",
       " 'Departure Delay',\n",
       " 'Arrival Delay',\n",
       " 'Departure and Arrival Time Convenience',\n",
       " 'Ease of Online Booking',\n",
       " 'Check-in Service',\n",
       " 'Online Boarding',\n",
       " 'Gate Location',\n",
       " 'On-board Service',\n",
       " 'Seat Comfort',\n",
       " 'Leg Room Service',\n",
       " 'Cleanliness',\n",
       " 'Food and Drink',\n",
       " 'In-flight Service',\n",
       " 'In-flight Entertainment',\n",
       " 'Baggage Handling',\n",
       " 'Satisfaction',\n",
       " 'Distance Group',\n",
       " 'EntertainmentRating',\n",
       " 'FoodRating',\n",
       " 'Recommended',\n",
       " 'ServiceRating',\n",
       " 'ValueRating']"
      ]
     },
     "execution_count": 88,
     "metadata": {},
     "output_type": "execute_result"
    }
   ],
   "source": [
    "df_03 = df_03.drop('GroundServiceRating', 'OverallScore', 'SeatComfortRating', 'WifiRating')\n",
    "df_03.write.csv('DP_data.csv', header=True, mode='overwrite')\n",
    "df_03 = spark.read.csv('DP_data.csv', header=True, inferSchema=True, encoding='ISO-8859-1')\n",
    "df_03.columns"
   ]
  },
  {
   "cell_type": "markdown",
   "id": "3b3aaf57",
   "metadata": {},
   "source": [
    "4 Data transformation "
   ]
  },
  {
   "cell_type": "markdown",
   "id": "5a052e90",
   "metadata": {},
   "source": [
    "4.1 Reduce the data"
   ]
  },
  {
   "cell_type": "markdown",
   "id": "3320aac8",
   "metadata": {},
   "source": [
    "4.1.1 Horizontal Reduction"
   ]
  },
  {
   "cell_type": "code",
   "execution_count": 89,
   "id": "ff67f129",
   "metadata": {},
   "outputs": [
    {
     "name": "stderr",
     "output_type": "stream",
     "text": [
      "                                                                                \r"
     ]
    },
    {
     "name": "stdout",
     "output_type": "stream",
     "text": [
      "Top 10 selected features: ['Age', 'Flight Distance', 'Arrival Delay', 'Departure and Arrival Time Convenience', 'Ease of Online Booking', 'Check-in Service', 'Online Boarding', 'Gate Location', 'On-board Service', 'Seat Comfort']\n"
     ]
    },
    {
     "name": "stderr",
     "output_type": "stream",
     "text": [
      "                                                                                \r"
     ]
    },
    {
     "data": {
      "text/plain": [
       "['Age',\n",
       " 'Flight Distance',\n",
       " 'Arrival Delay',\n",
       " 'Departure and Arrival Time Convenience',\n",
       " 'Ease of Online Booking',\n",
       " 'Check-in Service',\n",
       " 'Online Boarding',\n",
       " 'Gate Location',\n",
       " 'On-board Service',\n",
       " 'Seat Comfort',\n",
       " 'Satisfaction']"
      ]
     },
     "execution_count": 89,
     "metadata": {},
     "output_type": "execute_result"
    }
   ],
   "source": [
    "from pyspark.sql import SparkSession\n",
    "from pyspark.ml.feature import StringIndexer, VectorAssembler, ChiSqSelector\n",
    "from pyspark.sql.functions import col\n",
    "from pyspark.ml.functions import vector_to_array\n",
    "import pandas as pd\n",
    "\n",
    "spark = SparkSession.builder \\\n",
    "    .appName(\"Feature Selection and Horizontal Reduction\") \\\n",
    "    .getOrCreate()\n",
    "\n",
    "file = 'DP_data.csv'\n",
    "df = spark.read.csv(file, header=True, inferSchema=True, encoding='ISO-8859-1')\n",
    "\n",
    "string_cols = [col for col, dtype in df.dtypes if dtype == 'string' and col != 'Satisfaction']\n",
    "\n",
    "for col_name in string_cols:\n",
    "    indexer = StringIndexer(inputCol=col_name, outputCol=col_name + \"_index\")\n",
    "    df = indexer.fit(df).transform(df)\n",
    "\n",
    "# transfer target into integer type\n",
    "satisfaction_indexer = StringIndexer(inputCol='Satisfaction', outputCol='Satisfaction_index')\n",
    "df = satisfaction_indexer.fit(df).transform(df)\n",
    "\n",
    "input_cols = [col for col in df.columns if col not in string_cols + ['Satisfaction']]\n",
    "indexed_cols = [col + \"_index\" for col in string_cols]\n",
    "input_cols += indexed_cols\n",
    "\n",
    "threshold = 10000\n",
    "valid_input_cols = []\n",
    "for col_name in input_cols:\n",
    "    unique_count = df.select(col_name).distinct().count()\n",
    "    if unique_count < threshold:\n",
    "        valid_input_cols.append(col_name)\n",
    "\n",
    "assembler = VectorAssembler(inputCols=valid_input_cols, outputCol='features')\n",
    "assembled_df = assembler.transform(df)\n",
    "\n",
    "selector = ChiSqSelector(numTopFeatures=10, featuresCol='features', \n",
    "                         outputCol='selectedFeatures', labelCol='Satisfaction_index')\n",
    "model = selector.fit(assembled_df)\n",
    "selected_features = model.transform(assembled_df)\n",
    "\n",
    "selected_indices = model.selectedFeatures\n",
    "\n",
    "selected_feature_names = [valid_input_cols[i] for i in selected_indices]\n",
    "print(\"Top 10 selected features:\", selected_feature_names)\n",
    "\n",
    "selected_features = selected_features.withColumn('selectedFeatures', vector_to_array(col('selectedFeatures')))\n",
    "\n",
    "for i, feature_name in enumerate(selected_feature_names):\n",
    "    selected_features = selected_features.withColumn(feature_name, col('selectedFeatures')[i])\n",
    "\n",
    "columns_to_save = selected_feature_names + ['Satisfaction']\n",
    "\n",
    "selected_features.select(columns_to_save).write.csv('Horizontal_Reduction_dataset.csv', header=True, mode='overwrite')\n",
    "\n",
    "df_04 = spark.read.csv('Horizontal_Reduction_dataset.csv', header=True, inferSchema=True, encoding='ISO-8859-1')\n",
    "\n",
    "df_04.columns"
   ]
  },
  {
   "cell_type": "code",
   "execution_count": 37,
   "id": "16db3867",
   "metadata": {},
   "outputs": [
    {
     "name": "stdout",
     "output_type": "stream",
     "text": [
      "attribute 'Age                                   ' have 86455 valid data\n",
      "attribute 'Flight Distance                       ' have 86455 valid data\n",
      "attribute 'Arrival Delay                         ' have 86455 valid data\n",
      "attribute 'Departure and Arrival Time Convenience' have 86455 valid data\n",
      "attribute 'Ease of Online Booking                ' have 86455 valid data\n",
      "attribute 'Check-in Service                      ' have 86455 valid data\n",
      "attribute 'Online Boarding                       ' have 86455 valid data\n",
      "attribute 'Gate Location                         ' have 86455 valid data\n",
      "attribute 'On-board Service                      ' have 86455 valid data\n",
      "attribute 'Seat Comfort                          ' have 86455 valid data\n",
      "attribute 'Satisfaction                          ' have 86455 valid data\n"
     ]
    }
   ],
   "source": [
    "attributes_count = []\n",
    "for col_name in df_04.columns:\n",
    "    valid_count = df_04.filter(col(col_name).isNotNull()).count()\n",
    "    attributes_count.append((col_name, valid_count))\n",
    "max_attr_len = max(len(attr) for attr, _ in attributes_count)\n",
    "for attr, count in attributes_count:\n",
    "    print(f\"attribute '{attr.ljust(max_attr_len)}' have {count} valid data\")"
   ]
  },
  {
   "cell_type": "markdown",
   "id": "eefd70ee",
   "metadata": {},
   "source": [
    "4.1.2 Vertical Reduction"
   ]
  },
  {
   "cell_type": "code",
   "execution_count": 2,
   "id": "679858a0",
   "metadata": {},
   "outputs": [
    {
     "name": "stderr",
     "output_type": "stream",
     "text": [
      "WARNING: An illegal reflective access operation has occurred\n",
      "WARNING: Illegal reflective access by org.apache.spark.unsafe.Platform (file:/home/ubuntu/.local/lib/python3.10/site-packages/pyspark/jars/spark-unsafe_2.12-3.2.1.jar) to constructor java.nio.DirectByteBuffer(long,int)\n",
      "WARNING: Please consider reporting this to the maintainers of org.apache.spark.unsafe.Platform\n",
      "WARNING: Use --illegal-access=warn to enable warnings of further illegal reflective access operations\n",
      "WARNING: All illegal access operations will be denied in a future release\n",
      "Using Spark's default log4j profile: org/apache/spark/log4j-defaults.properties\n",
      "Setting default log level to \"WARN\".\n",
      "To adjust logging level use sc.setLogLevel(newLevel). For SparkR, use setLogLevel(newLevel).\n",
      "24/05/22 23:18:41 WARN NativeCodeLoader: Unable to load native-hadoop library for your platform... using builtin-java classes where applicable\n",
      "                                                                                \r"
     ]
    }
   ],
   "source": [
    "from pyspark.sql import SparkSession\n",
    "from pyspark.sql.functions import col\n",
    "\n",
    "# 创建 Spark 会话\n",
    "spark = SparkSession.builder \\\n",
    "    .appName(\"Data Preprocessing with Spark\") \\\n",
    "    .getOrCreate()\n",
    "\n",
    "# 读取数据\n",
    "file_path = 'Horizontal_Reduction_dataset.csv'\n",
    "df = spark.read.csv(file_path, header=True, inferSchema=True)\n"
   ]
  },
  {
   "cell_type": "code",
   "execution_count": 3,
   "id": "3aaeeef6",
   "metadata": {},
   "outputs": [
    {
     "name": "stderr",
     "output_type": "stream",
     "text": [
      "                                                                                \r"
     ]
    },
    {
     "data": {
      "image/png": "[encoded data removed]",
      "text/plain": [
       "<Figure size 432x288 with 1 Axes>"
      ]
     },
     "metadata": {},
     "output_type": "display_data"
    }
   ],
   "source": [
    "import matplotlib.pyplot as plt\n",
    "\n",
    "satisfaction_counts = df.groupBy(\"Satisfaction\").count().toPandas()\n",
    "satisfaction_counts.set_index(\"Satisfaction\", inplace=True)\n",
    "satisfaction_counts.plot(kind='pie', y='count', autopct='%1.1f%%', startangle=90, legend=None)\n",
    "plt.title(\"Satisfaction Distribution\")\n",
    "plt.ylabel(\"\")  # 隐藏 y 轴标签\n",
    "plt.show()\n"
   ]
  },
  {
   "cell_type": "code",
   "execution_count": 4,
   "id": "016c5669",
   "metadata": {},
   "outputs": [
    {
     "name": "stderr",
     "output_type": "stream",
     "text": [
      "\r",
      "[Stage 8:============================================>              (3 + 1) / 4]\r",
      "\r",
      "                                                                                \r"
     ]
    },
    {
     "name": "stdout",
     "output_type": "stream",
     "text": [
      "+--------------------+-----+\n",
      "|        Satisfaction|count|\n",
      "+--------------------+-----+\n",
      "|Neutral or Dissat...|40271|\n",
      "|           Satisfied|40203|\n",
      "+--------------------+-----+\n",
      "\n",
      "+--------------------+\n",
      "|        Satisfaction|\n",
      "+--------------------+\n",
      "|           Satisfied|\n",
      "|           Satisfied|\n",
      "|Neutral or Dissat...|\n",
      "|           Satisfied|\n",
      "|Neutral or Dissat...|\n",
      "|Neutral or Dissat...|\n",
      "|Neutral or Dissat...|\n",
      "|           Satisfied|\n",
      "|Neutral or Dissat...|\n",
      "|Neutral or Dissat...|\n",
      "|           Satisfied|\n",
      "|           Satisfied|\n",
      "|Neutral or Dissat...|\n",
      "|           Satisfied|\n",
      "|           Satisfied|\n",
      "|           Satisfied|\n",
      "|           Satisfied|\n",
      "|           Satisfied|\n",
      "|           Satisfied|\n",
      "|Neutral or Dissat...|\n",
      "|           Satisfied|\n",
      "|Neutral or Dissat...|\n",
      "|           Satisfied|\n",
      "|Neutral or Dissat...|\n",
      "|Neutral or Dissat...|\n",
      "|           Satisfied|\n",
      "|           Satisfied|\n",
      "|           Satisfied|\n",
      "|           Satisfied|\n",
      "|           Satisfied|\n",
      "|Neutral or Dissat...|\n",
      "|           Satisfied|\n",
      "|           Satisfied|\n",
      "|Neutral or Dissat...|\n",
      "|           Satisfied|\n",
      "|           Satisfied|\n",
      "|Neutral or Dissat...|\n",
      "|Neutral or Dissat...|\n",
      "|Neutral or Dissat...|\n",
      "|           Satisfied|\n",
      "|           Satisfied|\n",
      "|Neutral or Dissat...|\n",
      "|Neutral or Dissat...|\n",
      "|Neutral or Dissat...|\n",
      "|           Satisfied|\n",
      "|           Satisfied|\n",
      "|Neutral or Dissat...|\n",
      "|Neutral or Dissat...|\n",
      "|Neutral or Dissat...|\n",
      "|Neutral or Dissat...|\n",
      "+--------------------+\n",
      "only showing top 50 rows\n",
      "\n"
     ]
    },
    {
     "name": "stderr",
     "output_type": "stream",
     "text": [
      "\r",
      "[Stage 11:===========================================>              (3 + 1) / 4]\r",
      "\r",
      "                                                                                \r"
     ]
    }
   ],
   "source": [
    "from pyspark.sql.functions import col,rand\n",
    "\n",
    "# Get the count of each category\n",
    "class_counts = df.groupBy(\"Satisfaction\").count().collect()\n",
    "min_count = min(class_counts, key=lambda x: x['count'])['count']\n",
    "\n",
    "# downsample each category\n",
    "resampled_df = None\n",
    "for class_count in class_counts:\n",
    "    fraction = min_count / class_count['count']\n",
    "    sampled_df = df.filter(col(\"Satisfaction\") == class_count['Satisfaction']).sample(False, fraction, seed=42)\n",
    "    resampled_df = sampled_df if resampled_df is None else resampled_df.union(sampled_df)\n",
    "    \n",
    "resampled_df = resampled_df.orderBy(rand())\n",
    "\n",
    "resampled_df.groupBy(\"Satisfaction\").count().show()\n",
    "\n",
    "resampled_df.select(\"Satisfaction\").show(50)"
   ]
  },
  {
   "cell_type": "code",
   "execution_count": 93,
   "id": "632680a8",
   "metadata": {
    "scrolled": true
   },
   "outputs": [
    {
     "name": "stderr",
     "output_type": "stream",
     "text": [
      "                                                                                \r"
     ]
    },
    {
     "name": "stdout",
     "output_type": "stream",
     "text": [
      "+--------------------+-----+\n",
      "|        Satisfaction|count|\n",
      "+--------------------+-----+\n",
      "|Neutral or Dissat...|40271|\n",
      "|           Satisfied|40203|\n",
      "+--------------------+-----+\n",
      "\n"
     ]
    },
    {
     "data": {
      "image/png": "[encoded data removed]",
      "text/plain": [
       "<Figure size 432x288 with 1 Axes>"
      ]
     },
     "metadata": {},
     "output_type": "display_data"
    }
   ],
   "source": [
    "resampled_df.write.csv('Vertical Reduction.csv', header=True, mode='overwrite')\n",
    "vr_df = spark.read.csv('Vertical Reduction.csv', header=True, inferSchema=True)\n",
    "vr_df.groupBy(\"Satisfaction\").count().show()\n",
    "\n",
    "import matplotlib.pyplot as plt\n",
    "\n",
    "satisfaction_counts = vr_df.groupBy(\"Satisfaction\").count().toPandas()\n",
    "satisfaction_counts.set_index(\"Satisfaction\", inplace=True)\n",
    "satisfaction_counts.plot(kind='pie', y='count', autopct='%1.1f%%', startangle=90, legend=None)\n",
    "plt.title(\"Satisfaction Distribution\")\n",
    "plt.ylabel(\"\")  # 隐藏 y 轴标签\n",
    "plt.show()\n",
    "\n",
    "# 可选：再次使用 Matplotlib 查看下采样后的分布\n"
   ]
  },
  {
   "cell_type": "code",
   "execution_count": 94,
   "id": "783f90e4",
   "metadata": {},
   "outputs": [
    {
     "name": "stdout",
     "output_type": "stream",
     "text": [
      "attribute 'Age                                   ' have 80474 valid data\n",
      "attribute 'Flight Distance                       ' have 80474 valid data\n",
      "attribute 'Arrival Delay                         ' have 80474 valid data\n",
      "attribute 'Departure and Arrival Time Convenience' have 80474 valid data\n",
      "attribute 'Ease of Online Booking                ' have 80474 valid data\n",
      "attribute 'Check-in Service                      ' have 80474 valid data\n",
      "attribute 'Online Boarding                       ' have 80474 valid data\n",
      "attribute 'Gate Location                         ' have 80474 valid data\n",
      "attribute 'On-board Service                      ' have 80474 valid data\n",
      "attribute 'Seat Comfort                          ' have 80474 valid data\n",
      "attribute 'Satisfaction                          ' have 80474 valid data\n"
     ]
    }
   ],
   "source": [
    "attributes_count = []\n",
    "for col_name in vr_df.columns:\n",
    "    valid_count = vr_df.filter(col(col_name).isNotNull()).count()\n",
    "    attributes_count.append((col_name, valid_count))\n",
    "max_attr_len = max(len(attr) for attr, _ in attributes_count)\n",
    "for attr, count in attributes_count:\n",
    "    print(f\"attribute '{attr.ljust(max_attr_len)}' have {count} valid data\")"
   ]
  },
  {
   "cell_type": "markdown",
   "id": "c98e4d66",
   "metadata": {},
   "source": [
    "4.2 Project the data"
   ]
  },
  {
   "cell_type": "code",
   "execution_count": 95,
   "id": "06815362",
   "metadata": {
    "scrolled": true
   },
   "outputs": [
    {
     "name": "stdout",
     "output_type": "stream",
     "text": [
      "+-------+-----------------+\n",
      "|summary|  Flight Distance|\n",
      "+-------+-----------------+\n",
      "|  count|            80474|\n",
      "|   mean|1206.226694336059|\n",
      "| stddev|1015.452040686897|\n",
      "|    min|             31.0|\n",
      "|    max|           4983.0|\n",
      "+-------+-----------------+\n",
      "\n",
      "+-------+------------------+\n",
      "|summary|   Online Boarding|\n",
      "+-------+------------------+\n",
      "|  count|             80474|\n",
      "|   mean|3.3344558490941174|\n",
      "| stddev| 1.359480270896482|\n",
      "|    min|               0.0|\n",
      "|    max|               5.0|\n",
      "+-------+------------------+\n",
      "\n",
      "+-------------------------+\n",
      "|skewness(Flight Distance)|\n",
      "+-------------------------+\n",
      "|       1.0631150985160671|\n",
      "+-------------------------+\n",
      "\n",
      "+-------------------------+\n",
      "|skewness(Online Boarding)|\n",
      "+-------------------------+\n",
      "|      -0.5680793913169441|\n",
      "+-------------------------+\n",
      "\n"
     ]
    },
    {
     "data": {
      "image/png": "[encoded data removed]",
      "text/plain": [
       "<Figure size 576x432 with 1 Axes>"
      ]
     },
     "metadata": {
      "needs_background": "light"
     },
     "output_type": "display_data"
    },
    {
     "data": {
      "image/png": "[encoded data removed]",
      "text/plain": [
       "<Figure size 576x432 with 1 Axes>"
      ]
     },
     "metadata": {
      "needs_background": "light"
     },
     "output_type": "display_data"
    }
   ],
   "source": [
    "from pyspark.sql import SparkSession\n",
    "\n",
    "spark = SparkSession.builder \\\n",
    "    .appName(\"Project the data\") \\\n",
    "    .getOrCreate()\n",
    "\n",
    "file_path = \"Vertical Reduction.csv\"\n",
    "df = spark.read.csv(file_path, header=True, inferSchema=True)\n",
    "from pyspark.sql.functions import skewness, log10, col, when\n",
    "\n",
    "df.describe('Flight Distance').show()\n",
    "df.describe('Online Boarding').show()\n",
    "\n",
    "# skewness\n",
    "df.select(skewness(col('Flight Distance'))).show()\n",
    "df.select(skewness(col('Online Boarding'))).show()\n",
    "\n",
    "df = df.withColumn('Log_Flight_Distance', log10(col('Flight Distance')))\n",
    "df = df.withColumn('Online_Boarding', when(col('Online Boarding') <= 0, None)\n",
    "                   .otherwise(col('Online Boarding')))\n",
    "df = df.withColumn('Log_Online_Boarding', log10(col('Online Boarding')))\n",
    "\n",
    "log_flight_distance_pd = df.select('Log_Flight_Distance').dropna().toPandas()\n",
    "log_online_boarding_pd = df.select('Log_Online_Boarding').dropna().toPandas()\n",
    "\n",
    "import matplotlib.pyplot as plt\n",
    "plt.figure(figsize=(8, 6))\n",
    "plt.hist(log_flight_distance_pd['Log_Flight_Distance'], bins=30, edgecolor='k')\n",
    "plt.title('Log Flight Distance Distribution')\n",
    "plt.xlabel('Log Flight Distance')\n",
    "plt.ylabel('Frequency')\n",
    "plt.show()\n",
    "\n",
    "\n",
    "plt.figure(figsize=(8, 6))\n",
    "plt.hist(log_online_boarding_pd['Log_Online_Boarding'], bins=30, edgecolor='k')\n",
    "plt.title('Log Online Boarding Distribution')\n",
    "plt.xlabel('Log Online Boarding')\n",
    "plt.ylabel('Frequency')\n",
    "plt.show()\n"
   ]
  },
  {
   "cell_type": "markdown",
   "id": "2154d9b2",
   "metadata": {},
   "source": [
    "6.3 Build appropriate model and choose relevant parameters"
   ]
  },
  {
   "cell_type": "markdown",
   "id": "c7aae68b",
   "metadata": {},
   "source": [
    "6.3.1 Build model"
   ]
  },
  {
   "cell_type": "code",
   "execution_count": 5,
   "id": "ee5c5cf2",
   "metadata": {},
   "outputs": [
    {
     "name": "stdout",
     "output_type": "stream",
     "text": [
      "root\n",
      " |-- Age: double (nullable = true)\n",
      " |-- Flight Distance: double (nullable = true)\n",
      " |-- Arrival Delay: double (nullable = true)\n",
      " |-- Departure and Arrival Time Convenience: double (nullable = true)\n",
      " |-- Ease of Online Booking: double (nullable = true)\n",
      " |-- Check-in Service: double (nullable = true)\n",
      " |-- Online Boarding: double (nullable = true)\n",
      " |-- Gate Location: double (nullable = true)\n",
      " |-- On-board Service: double (nullable = true)\n",
      " |-- Seat Comfort: double (nullable = true)\n",
      " |-- Satisfaction: string (nullable = true)\n",
      "\n",
      "+----+---------------+-------------+--------------------------------------+----------------------+----------------+---------------+-------------+----------------+------------+--------------------+\n",
      "| Age|Flight Distance|Arrival Delay|Departure and Arrival Time Convenience|Ease of Online Booking|Check-in Service|Online Boarding|Gate Location|On-board Service|Seat Comfort|        Satisfaction|\n",
      "+----+---------------+-------------+--------------------------------------+----------------------+----------------+---------------+-------------+----------------+------------+--------------------+\n",
      "|62.0|         2639.0|          0.0|                                   4.0|                   4.0|             2.0|            3.0|          4.0|             5.0|         1.0|           Satisfied|\n",
      "|39.0|         2165.0|          0.0|                                   2.0|                   2.0|             4.0|            4.0|          2.0|             3.0|         5.0|           Satisfied|\n",
      "|41.0|          997.0|          0.0|                                   5.0|                   5.0|             1.0|            4.0|          5.0|             3.0|         1.0|           Satisfied|\n",
      "|47.0|         3735.0|          0.0|                                   2.0|                   2.0|             5.0|            5.0|          2.0|             5.0|         5.0|           Satisfied|\n",
      "|30.0|         2481.0|          0.0|                                   0.0|                   0.0|             1.0|            1.0|          1.0|             5.0|         1.0|           Satisfied|\n",
      "|43.0|         3065.0|          0.0|                                   0.0|                   0.0|             5.0|            5.0|          4.0|             2.0|         1.0|           Satisfied|\n",
      "|55.0|          409.0|          0.0|                                   5.0|                   4.0|             5.0|            5.0|          2.0|             5.0|         4.0|           Satisfied|\n",
      "|45.0|         3346.0|          0.0|                                   4.0|                   4.0|             4.0|            4.0|          4.0|             3.0|         4.0|           Satisfied|\n",
      "|43.0|          425.0|          0.0|                                   0.0|                   4.0|             4.0|            4.0|          2.0|             4.0|         2.0|Neutral or Dissat...|\n",
      "|61.0|          551.0|          0.0|                                   4.0|                   3.0|             3.0|            3.0|          4.0|             1.0|         5.0|Neutral or Dissat...|\n",
      "|33.0|          163.0|          1.0|                                   4.0|                   0.0|             4.0|            0.0|          1.0|             4.0|         1.0|Neutral or Dissat...|\n",
      "|66.0|         1533.0|          0.0|                                   4.0|                   3.0|             4.0|            4.0|          3.0|             1.0|         4.0|Neutral or Dissat...|\n",
      "|52.0|         3886.0|          0.0|                                   3.0|                   3.0|             3.0|            5.0|          3.0|             2.0|         4.0|           Satisfied|\n",
      "|57.0|          429.0|          0.0|                                   5.0|                   3.0|             1.0|            2.0|          5.0|             4.0|         1.0|           Satisfied|\n",
      "|23.0|          879.0|          0.0|                                   3.0|                   3.0|             1.0|            4.0|          3.0|             2.0|         4.0|Neutral or Dissat...|\n",
      "|60.0|          775.0|          9.0|                                   5.0|                   1.0|             3.0|            5.0|          3.0|             2.0|         5.0|Neutral or Dissat...|\n",
      "|29.0|          844.0|          0.0|                                   0.0|                   0.0|             5.0|            0.0|          1.0|             1.0|         1.0|           Satisfied|\n",
      "|16.0|          853.0|          0.0|                                   5.0|                   3.0|             5.0|            3.0|          1.0|             5.0|         2.0|Neutral or Dissat...|\n",
      "|25.0|          512.0|          0.0|                                   4.0|                   3.0|             4.0|            3.0|          1.0|             3.0|         2.0|Neutral or Dissat...|\n",
      "|40.0|         3861.0|          0.0|                                   2.0|                   2.0|             4.0|            5.0|          2.0|             2.0|         4.0|           Satisfied|\n",
      "+----+---------------+-------------+--------------------------------------+----------------------+----------------+---------------+-------------+----------------+------------+--------------------+\n",
      "only showing top 20 rows\n",
      "\n",
      "+--------------------+-----+\n",
      "|        Satisfaction|count|\n",
      "+--------------------+-----+\n",
      "|Neutral or Dissat...|40271|\n",
      "|           Satisfied|40203|\n",
      "+--------------------+-----+\n",
      "\n"
     ]
    }
   ],
   "source": [
    "from pyspark.sql import SparkSession\n",
    "\n",
    "spark = SparkSession.builder \\\n",
    "    .appName(\"C&R Tree Example\") \\\n",
    "    .getOrCreate()\n",
    "\n",
    "file_path = \"Vertical Reduction.csv\"\n",
    "df = spark.read.csv(file_path, header=True, inferSchema=True)\n",
    "df.printSchema()\n",
    "df.show(20)\n",
    "\n",
    "satisfaction_counts = df.groupBy(\"Satisfaction\").count()\n",
    "satisfaction_counts.show()\n",
    "\n"
   ]
  },
  {
   "cell_type": "code",
   "execution_count": 6,
   "id": "976b6133",
   "metadata": {},
   "outputs": [],
   "source": [
    "from pyspark.ml.classification import DecisionTreeClassifier\n",
    "from pyspark.ml.feature import StringIndexer, VectorAssembler\n",
    "\n",
    "indexer = StringIndexer(inputCol=\"Satisfaction\", outputCol=\"label\")\n",
    "df = indexer.fit(df).transform(df)\n",
    "\n",
    "# 合并特征列\n",
    "feature_columns = df.columns\n",
    "feature_columns.remove(\"Satisfaction\")  # 移除目标列\n",
    "assembler = VectorAssembler(inputCols=feature_columns, outputCol=\"features\")\n",
    "df = assembler.transform(df)\n",
    "\n",
    "train_df, test_df = df.randomSplit([0.8, 0.2], seed=42)\n",
    "from pyspark.ml.classification import DecisionTreeClassifier\n",
    "\n",
    "dt = DecisionTreeClassifier(featuresCol=\"features\", labelCol=\"label\", maxDepth=5，maxBins=32)\n"
   ]
  },
  {
   "cell_type": "markdown",
   "id": "48f16f97",
   "metadata": {},
   "source": [
    "7 Data Mining"
   ]
  },
  {
   "cell_type": "markdown",
   "id": "1b5aa91c",
   "metadata": {},
   "source": [
    "7.1 Create and justify test designs"
   ]
  },
  {
   "cell_type": "code",
   "execution_count": 21,
   "id": "a4b58d56",
   "metadata": {},
   "outputs": [
    {
     "name": "stdout",
     "output_type": "stream",
     "text": [
      "Train DataFrame - Rows: 64491 Columns: 13\n",
      "Test DataFrame - Rows: 15983 Columns: 13\n"
     ]
    }
   ],
   "source": [
    "from pyspark.sql import SparkSession\n",
    "from pyspark.ml.feature import StringIndexer, VectorAssembler\n",
    "from pyspark.ml.classification import DecisionTreeClassifier\n",
    "from pyspark.ml.evaluation import MulticlassClassificationEvaluator\n",
    "\n",
    "# Initialize Spark session\n",
    "spark = SparkSession.builder \\\n",
    "    .appName(\"Decision Tree Classification\") \\\n",
    "    .getOrCreate()\n",
    "\n",
    "# Load data\n",
    "file_path = \"Vertical Reduction.csv\"\n",
    "df = spark.read.csv(file_path, header=True, inferSchema=True)\n",
    "\n",
    "# Convert target column to numeric\n",
    "indexer = StringIndexer(inputCol=\"Satisfaction\", outputCol=\"target\")\n",
    "df = indexer.fit(df).transform(df)\n",
    "\n",
    "# Combine feature columns\n",
    "feature_columns = df.columns\n",
    "feature_columns.remove(\"Satisfaction\")  # Remove target column\n",
    "feature_columns.remove(\"target\")  # Remove the newly created label column\n",
    "assembler = VectorAssembler(inputCols=feature_columns, outputCol=\"features\")\n",
    "df = assembler.transform(df)\n",
    "\n",
    "# Split data into train and test sets\n",
    "train_df, test_df = df.randomSplit([0.8, 0.2], seed=42)\n",
    "\n",
    "# Check the number of rows and columns in the train and test DataFrames\n",
    "print(\"Train DataFrame - Rows:\", train_df.count(), \"Columns:\", len(train_df.columns))\n",
    "print(\"Test DataFrame - Rows:\", test_df.count(), \"Columns:\", len(test_df.columns))"
   ]
  },
  {
   "cell_type": "markdown",
   "id": "d237ddf0",
   "metadata": {},
   "source": [
    "7.2 Conduct data mining"
   ]
  },
  {
   "cell_type": "markdown",
   "id": "fd55ab5d",
   "metadata": {},
   "source": [
    "7.2.1 Create C&R Tree model "
   ]
  },
  {
   "cell_type": "code",
   "execution_count": 22,
   "id": "4bb8f943",
   "metadata": {},
   "outputs": [],
   "source": [
    "# Initialize and train the decision tree classifier\n",
    "dt = DecisionTreeClassifier(featuresCol=\"features\", labelCol=\"target\", maxDepth=5)\n",
    "dt_model = dt.fit(train_df)"
   ]
  },
  {
   "cell_type": "markdown",
   "id": "d9344bd6",
   "metadata": {},
   "source": [
    "7.2.2 Model evaluation"
   ]
  },
  {
   "cell_type": "code",
   "execution_count": 23,
   "id": "f8a02afb",
   "metadata": {},
   "outputs": [
    {
     "name": "stdout",
     "output_type": "stream",
     "text": [
      "Model Accuracy: 0.8335731714947131\n",
      "+------+----------+-----+\n",
      "|target|prediction|count|\n",
      "+------+----------+-----+\n",
      "|   1.0|       1.0| 7185|\n",
      "|   0.0|       1.0| 1859|\n",
      "|   1.0|       0.0|  801|\n",
      "|   0.0|       0.0| 6138|\n",
      "+------+----------+-----+\n",
      "\n"
     ]
    }
   ],
   "source": [
    "# Make predictions\n",
    "predictions = dt_model.transform(test_df)\n",
    "\n",
    "# Evaluate the model\n",
    "evaluator = MulticlassClassificationEvaluator(labelCol=\"target\", predictionCol=\"prediction\", metricName=\"accuracy\")\n",
    "accuracy = evaluator.evaluate(predictions)\n",
    "\n",
    "print(f\"Model Accuracy: {accuracy}\")\n",
    "\n",
    "# Generate confusion matrix\n",
    "predictions.groupBy(\"target\", \"prediction\").count().show()"
   ]
  },
  {
   "cell_type": "code",
   "execution_count": 25,
   "id": "0d204c6a",
   "metadata": {},
   "outputs": [
    {
     "name": "stdout",
     "output_type": "stream",
     "text": [
      "+------+----------+-----+\n",
      "|target|prediction|count|\n",
      "+------+----------+-----+\n",
      "|   1.0|       1.0| 7185|\n",
      "|   0.0|       1.0| 1859|\n",
      "|   1.0|       0.0|  801|\n",
      "|   0.0|       0.0| 6138|\n",
      "+------+----------+-----+\n",
      "\n",
      "target: 0.0\n",
      "Precision: 0.7675\n",
      "Recall: 0.8846\n",
      "F1 Score: 0.8219\n",
      "\n",
      "target: 1.0\n",
      "Precision: 0.8997\n",
      "Recall: 0.7944\n",
      "F1 Score: 0.8438\n",
      "\n"
     ]
    }
   ],
   "source": [
    "# Generate confusion matrix\n",
    "conf_matrix = predictions.groupBy(\"target\", \"prediction\").count()\n",
    "conf_matrix.show()\n",
    "\n",
    "# Calculate precision, recall, and F1 score manually\n",
    "# Get the labels\n",
    "labels = df.select(\"target\").distinct().rdd.flatMap(lambda x: x).collect()\n",
    "\n",
    "# Create an empty dictionary to hold metrics\n",
    "metrics = {label: {\"TP\": 0, \"FP\": 0, \"FN\": 0} for label in labels}\n",
    "\n",
    "# Populate the metrics dictionary\n",
    "for row in conf_matrix.collect():\n",
    "    label = row[\"target\"]\n",
    "    prediction = row[\"prediction\"]\n",
    "    count = row[\"count\"]\n",
    "    if label == prediction:\n",
    "        metrics[label][\"TP\"] += count\n",
    "    else:\n",
    "        metrics[label][\"FP\"] += count\n",
    "        metrics[prediction][\"FN\"] += count\n",
    "\n",
    "\n",
    "# Calculate precision, recall, and F1 score for each label\n",
    "for label in labels:\n",
    "    tp = metrics[label][\"TP\"]\n",
    "    fp = metrics[label][\"FP\"]\n",
    "    fn = metrics[label][\"FN\"]\n",
    "    precision = tp / (tp + fp) if tp + fp > 0 else 0\n",
    "    recall = tp / (tp + fn) if tp + fn > 0 else 0\n",
    "    f1 = 2 * precision * recall / (precision + recall) if precision + recall > 0 else 0\n",
    "    metrics[label][\"Precision\"] = precision\n",
    "    metrics[label][\"Recall\"] = recall\n",
    "    metrics[label][\"F1\"] = f1\n",
    "\n",
    "# Print the metrics\n",
    "for target, metric in metrics.items():\n",
    "    print(f\"target: {target}\")\n",
    "    print(f\"Precision: {metric['Precision']:.4f}\")\n",
    "    print(f\"Recall: {metric['Recall']:.4f}\")\n",
    "    print(f\"F1 Score: {metric['F1']:.4f}\")\n",
    "    print()\n",
    "\n",
    "\n",
    "\n",
    "\n"
   ]
  },
  {
   "cell_type": "markdown",
   "id": "1bec700b",
   "metadata": {},
   "source": [
    "7.2.3 Print C&R Tree rules"
   ]
  },
  {
   "cell_type": "code",
   "execution_count": 31,
   "id": "5f220f00",
   "metadata": {
    "scrolled": true
   },
   "outputs": [
    {
     "name": "stdout",
     "output_type": "stream",
     "text": [
      "DecisionTreeClassificationModel: uid=DecisionTreeClassifier_afae91381b10, depth=5, numNodes=39, numClasses=2, numFeatures=10\n",
      "  If (feature 6 <= 3.5)\n",
      "   If (feature 4 <= 0.5)\n",
      "    If (feature 1 <= 254.0)\n",
      "     If (feature 3 <= 0.5)\n",
      "      If (feature 0 <= 34.5)\n",
      "       Predict: 1.0\n",
      "      Else (feature 0 > 34.5)\n",
      "       Predict: 0.0\n",
      "     Else (feature 3 > 0.5)\n",
      "      If (feature 6 <= 0.5)\n",
      "       Predict: 0.0\n",
      "      Else (feature 6 > 0.5)\n",
      "       Predict: 1.0\n",
      "    Else (feature 1 > 254.0)\n",
      "     If (feature 0 <= 33.5)\n",
      "      Predict: 1.0\n",
      "     Else (feature 0 > 33.5)\n",
      "      If (feature 3 <= 0.5)\n",
      "       Predict: 0.0\n",
      "      Else (feature 3 > 0.5)\n",
      "       Predict: 1.0\n",
      "   Else (feature 4 > 0.5)\n",
      "    If (feature 4 <= 3.5)\n",
      "     If (feature 1 <= 1628.5)\n",
      "      Predict: 0.0\n",
      "     Else (feature 1 > 1628.5)\n",
      "      If (feature 8 <= 3.5)\n",
      "       Predict: 0.0\n",
      "      Else (feature 8 > 3.5)\n",
      "       Predict: 1.0\n",
      "    Else (feature 4 > 3.5)\n",
      "     If (feature 8 <= 3.5)\n",
      "      If (feature 5 <= 4.5)\n",
      "       Predict: 0.0\n",
      "      Else (feature 5 > 4.5)\n",
      "       Predict: 1.0\n",
      "     Else (feature 8 > 3.5)\n",
      "      Predict: 1.0\n",
      "  Else (feature 6 > 3.5)\n",
      "   If (feature 8 <= 3.5)\n",
      "    If (feature 6 <= 4.5)\n",
      "     If (feature 9 <= 3.5)\n",
      "      Predict: 0.0\n",
      "     Else (feature 9 > 3.5)\n",
      "      If (feature 0 <= 61.5)\n",
      "       Predict: 1.0\n",
      "      Else (feature 0 > 61.5)\n",
      "       Predict: 0.0\n",
      "    Else (feature 6 > 4.5)\n",
      "     If (feature 0 <= 61.5)\n",
      "      Predict: 1.0\n",
      "     Else (feature 0 > 61.5)\n",
      "      If (feature 4 <= 4.5)\n",
      "       Predict: 0.0\n",
      "      Else (feature 4 > 4.5)\n",
      "       Predict: 1.0\n",
      "   Else (feature 8 > 3.5)\n",
      "    Predict: 1.0\n",
      "\n"
     ]
    }
   ],
   "source": [
    "# Get the debug string of the decision tree \n",
    "tree_debug_string = dt_model._java_obj.toDebugString()\n",
    "\n",
    "# Print the debugging string of the decision tree. You can view the decision tree structure and rules on the console.打印决策树的调试字符串，可以在控制台查看决策树结构和规则\n",
    "print(tree_debug_string)"
   ]
  },
  {
   "cell_type": "markdown",
   "id": "e80fb6da",
   "metadata": {},
   "source": [
    "7.3 Search for patterns"
   ]
  },
  {
   "cell_type": "code",
   "execution_count": 33,
   "id": "081dca41",
   "metadata": {},
   "outputs": [
    {
     "data": {
      "image/png": "[encoded data removed]",
      "text/plain": [
       "<Figure size 720x432 with 1 Axes>"
      ]
     },
     "metadata": {
      "needs_background": "light"
     },
     "output_type": "display_data"
    }
   ],
   "source": [
    "import matplotlib.pyplot as plt\n",
    "importances = dt_model.featureImportances.toArray()\n",
    "features_importances = list(zip(feature_columns, importances))\n",
    "features_importances.sort(key=lambda x: x[1], reverse=True)\n",
    "\n",
    "# Unzip the sorted features and importances\n",
    "sorted_features, sorted_importances = zip(*features_importances)\n",
    "\n",
    "# Plot feature importances\n",
    "plt.figure(figsize=(10, 6))\n",
    "plt.barh(sorted_features, sorted_importances, color='b')\n",
    "plt.title('Feature Importances')\n",
    "plt.xlabel('Relative Importance')\n",
    "plt.gca().invert_yaxis()\n",
    "plt.show()\n"
   ]
  },
  {
   "cell_type": "markdown",
   "id": "0025f0fc",
   "metadata": {},
   "source": [
    "8 Interpretation "
   ]
  },
  {
   "cell_type": "markdown",
   "id": "20397e40",
   "metadata": {},
   "source": [
    "8.2.3 Evaluation on Model Performance"
   ]
  },
  {
   "cell_type": "code",
   "execution_count": 4,
   "id": "6954798e",
   "metadata": {},
   "outputs": [
    {
     "name": "stdout",
     "output_type": "stream",
     "text": [
      "Defaulting to user installation because normal site-packages is not writeable\n",
      "Collecting scikit-learn\n",
      "  Downloading scikit_learn-1.4.2-cp310-cp310-manylinux_2_17_x86_64.manylinux2014_x86_64.whl (12.1 MB)\n",
      "\u001b[2K     \u001b[90m━━━━━━━━━━━━━━━━━━━━━━━━━━━━━━━━━━━━━━━━\u001b[0m \u001b[32m12.1/12.1 MB\u001b[0m \u001b[31m57.3 MB/s\u001b[0m eta \u001b[36m0:00:00\u001b[0m00:01\u001b[0m00:01\u001b[0m\n",
      "\u001b[?25hCollecting joblib>=1.2.0\n",
      "  Downloading joblib-1.4.2-py3-none-any.whl (301 kB)\n",
      "\u001b[2K     \u001b[90m━━━━━━━━━━━━━━━━━━━━━━━━━━━━━━━━━━━━━━\u001b[0m \u001b[32m301.8/301.8 KB\u001b[0m \u001b[31m29.9 MB/s\u001b[0m eta \u001b[36m0:00:00\u001b[0m\n",
      "\u001b[?25hRequirement already satisfied: scipy>=1.6.0 in /home/ubuntu/.local/lib/python3.10/site-packages (from scikit-learn) (1.8.1)\n",
      "Requirement already satisfied: numpy>=1.19.5 in /home/ubuntu/.local/lib/python3.10/site-packages (from scikit-learn) (1.22.4)\n",
      "Collecting threadpoolctl>=2.0.0\n",
      "  Downloading threadpoolctl-3.5.0-py3-none-any.whl (18 kB)\n",
      "Installing collected packages: threadpoolctl, joblib, scikit-learn\n",
      "Successfully installed joblib-1.4.2 scikit-learn-1.4.2 threadpoolctl-3.5.0\n"
     ]
    }
   ],
   "source": [
    "!pip install scikit-learn"
   ]
  },
  {
   "cell_type": "code",
   "execution_count": 9,
   "id": "4ca2d935",
   "metadata": {},
   "outputs": [
    {
     "name": "stdout",
     "output_type": "stream",
     "text": [
      "Train DataFrame - Rows: 64491 Columns: 13\n",
      "Test DataFrame - Rows: 15983 Columns: 13\n"
     ]
    },
    {
     "name": "stderr",
     "output_type": "stream",
     "text": [
      "                                                                                \r"
     ]
    },
    {
     "data": {
      "image/png": "[encoded data removed]",
      "text/plain": [
       "<Figure size 576x432 with 1 Axes>"
      ]
     },
     "metadata": {
      "needs_background": "light"
     },
     "output_type": "display_data"
    },
    {
     "name": "stdout",
     "output_type": "stream",
     "text": [
      "Train Area Under ROC Curve (AUC): 0.8709093840119625\n",
      "Test Area Under ROC Curve (AUC): 0.8696158160487243\n"
     ]
    }
   ],
   "source": [
    "from pyspark.sql import SparkSession\n",
    "from pyspark.ml.feature import StringIndexer, VectorAssembler\n",
    "from pyspark.ml.classification import DecisionTreeClassifier\n",
    "from pyspark.ml.evaluation import BinaryClassificationEvaluator\n",
    "import matplotlib.pyplot as plt\n",
    "from sklearn.metrics import roc_curve, auc\n",
    "import numpy as np\n",
    "\n",
    "# Initialize Spark session\n",
    "spark = SparkSession.builder \\\n",
    "    .appName(\"Decision Tree Classification\") \\\n",
    "    .getOrCreate()\n",
    "\n",
    "# Load data\n",
    "file_path = \"Vertical Reduction.csv\"\n",
    "df = spark.read.csv(file_path, header=True, inferSchema=True)\n",
    "\n",
    "# Convert target column to numeric\n",
    "indexer = StringIndexer(inputCol=\"Satisfaction\", outputCol=\"target\")\n",
    "df = indexer.fit(df).transform(df)\n",
    "\n",
    "# Combine feature columns\n",
    "feature_columns = df.columns\n",
    "feature_columns.remove(\"Satisfaction\")  # Remove target column\n",
    "feature_columns.remove(\"target\")  # Remove the newly created label column\n",
    "assembler = VectorAssembler(inputCols=feature_columns, outputCol=\"features\")\n",
    "df = assembler.transform(df)\n",
    "\n",
    "# Split data into train and test sets\n",
    "train_df, test_df = df.randomSplit([0.8, 0.2], seed=42)\n",
    "\n",
    "# Check the number of rows and columns in the train and test DataFrames\n",
    "print(\"Train DataFrame - Rows:\", train_df.count(), \"Columns:\", len(train_df.columns))\n",
    "print(\"Test DataFrame - Rows:\", test_df.count(), \"Columns:\", len(test_df.columns))\n",
    "\n",
    "# Train Decision Tree model\n",
    "dt = DecisionTreeClassifier(labelCol=\"target\", featuresCol=\"features\")\n",
    "model = dt.fit(train_df)\n",
    "\n",
    "# Evaluate on train and test data\n",
    "train_predictions = model.transform(train_df)\n",
    "test_predictions = model.transform(test_df)\n",
    "\n",
    "# Extract probability and label\n",
    "train_predictions_prob = train_predictions.select(['probability', 'target']).rdd.map(lambda row: (float(row['probability'][1]), float(row['target'])))\n",
    "test_predictions_prob = test_predictions.select(['probability', 'target']).rdd.map(lambda row: (float(row['probability'][1]), float(row['target'])))\n",
    "\n",
    "# Calculate ROC curve and AUC for train data\n",
    "train_probs = np.array(train_predictions_prob.map(lambda x: x[0]).collect())\n",
    "train_labels = np.array(train_predictions_prob.map(lambda x: x[1]).collect())\n",
    "train_fpr, train_tpr, _ = roc_curve(train_labels, train_probs)\n",
    "train_roc_auc = auc(train_fpr, train_tpr)\n",
    "\n",
    "# Calculate ROC curve and AUC for test data\n",
    "test_probs = np.array(test_predictions_prob.map(lambda x: x[0]).collect())\n",
    "test_labels = np.array(test_predictions_prob.map(lambda x: x[1]).collect())\n",
    "test_fpr, test_tpr, _ = roc_curve(test_labels, test_probs)\n",
    "test_roc_auc = auc(test_fpr, test_tpr)\n",
    "\n",
    "# Plot ROC curves\n",
    "plt.figure(figsize=(8, 6))\n",
    "plt.plot(train_fpr, train_tpr, color='darkgreen', lw=2, label='Train ROC curve (area = %0.2f)' % train_roc_auc)\n",
    "plt.plot(test_fpr, test_tpr, color='red', lw=2, label='Test ROC curve (area = %0.2f)' % test_roc_auc)\n",
    "plt.plot([0, 1], [0, 1], color='navy', lw=2, linestyle='--')\n",
    "plt.xlim([0.0, 1.0])\n",
    "plt.ylim([0.0, 1.05])\n",
    "plt.xlabel('False Positive Rate')\n",
    "plt.ylabel('True Positive Rate')\n",
    "plt.title('Receiver Operating Characteristic')\n",
    "plt.legend(loc=\"lower right\")\n",
    "plt.show()\n",
    "\n",
    "print(\"Train Area Under ROC Curve (AUC):\", train_roc_auc)\n",
    "print(\"Test Area Under ROC Curve (AUC):\", test_roc_auc)\n"
   ]
  },
  {
   "cell_type": "markdown",
   "id": "71fed4f5",
   "metadata": {},
   "source": [
    "8.5.1 Adjusting Partition size"
   ]
  },
  {
   "cell_type": "markdown",
   "id": "60beaff9",
   "metadata": {},
   "source": [
    "Test size = 0.2"
   ]
  },
  {
   "cell_type": "code",
   "execution_count": 15,
   "id": "b1007e8e",
   "metadata": {},
   "outputs": [
    {
     "name": "stdout",
     "output_type": "stream",
     "text": [
      "Test size = 0.2\n",
      "Model Accuracy: 0.8341362697866483\n"
     ]
    }
   ],
   "source": [
    "from pyspark.sql import SparkSession\n",
    "from pyspark.ml.feature import StringIndexer, VectorAssembler\n",
    "from pyspark.ml.classification import DecisionTreeClassifier\n",
    "from pyspark.ml.evaluation import MulticlassClassificationEvaluator\n",
    "\n",
    "# Initialize Spark session\n",
    "spark = SparkSession.builder \\\n",
    "    .appName(\"Decision Tree Classification\") \\\n",
    "    .getOrCreate()\n",
    "\n",
    "# Load data\n",
    "file_path = \"Vertical Reduction.csv\"\n",
    "df = spark.read.csv(file_path, header=True, inferSchema=True)\n",
    "\n",
    "# Convert target column to numeric\n",
    "indexer = StringIndexer(inputCol=\"Satisfaction\", outputCol=\"target\")\n",
    "df = indexer.fit(df).transform(df)\n",
    "\n",
    "# Combine feature columns\n",
    "feature_columns = df.columns\n",
    "feature_columns.remove(\"Satisfaction\")  # Remove target column\n",
    "feature_columns.remove(\"target\")  # Remove the newly created label column\n",
    "assembler = VectorAssembler(inputCols=feature_columns, outputCol=\"features\")\n",
    "df = assembler.transform(df)\n",
    "# Split data into train and test sets\n",
    "train_df, test_df = df.randomSplit([0.8, 0.2], seed=42)\n",
    "# Initialize and train the decision tree classifier\n",
    "dt = DecisionTreeClassifier(featuresCol=\"features\", labelCol=\"target\", maxDepth=5)\n",
    "dt_model = dt.fit(train_df)\n",
    "# Make predictions\n",
    "predictions = dt_model.transform(test_df)\n",
    "# Evaluate the model\n",
    "evaluator = MulticlassClassificationEvaluator(labelCol=\"target\", predictionCol=\"prediction\", metricName=\"accuracy\")\n",
    "accuracy = evaluator.evaluate(predictions)\n",
    "print(\"Test size = 0.2\")\n",
    "print(f\"Model Accuracy: {accuracy}\")"
   ]
  },
  {
   "cell_type": "markdown",
   "id": "64f0010a",
   "metadata": {},
   "source": [
    "Test size = 0.3"
   ]
  },
  {
   "cell_type": "code",
   "execution_count": 16,
   "id": "c0ff3b11",
   "metadata": {},
   "outputs": [
    {
     "name": "stdout",
     "output_type": "stream",
     "text": [
      "Test size = 0.3\n",
      "Model Accuracy: 0.8313751724714639\n"
     ]
    },
    {
     "name": "stderr",
     "output_type": "stream",
     "text": [
      "\r",
      "[Stage 322:>                                                        (0 + 2) / 2]\r",
      "\r",
      "                                                                                \r"
     ]
    }
   ],
   "source": [
    "train_df, test_df = df.randomSplit([0.7, 0.3], seed=42)\n",
    "# Initialize and train the decision tree classifier\n",
    "dt = DecisionTreeClassifier(featuresCol=\"features\", labelCol=\"target\", maxDepth=5)\n",
    "dt_model = dt.fit(train_df)\n",
    "# Make predictions\n",
    "predictions = dt_model.transform(test_df)\n",
    "# Evaluate the model\n",
    "evaluator = MulticlassClassificationEvaluator(labelCol=\"target\", predictionCol=\"prediction\", metricName=\"accuracy\")\n",
    "accuracy = evaluator.evaluate(predictions)\n",
    "print(\"Test size = 0.3\")\n",
    "print(f\"Model Accuracy: {accuracy}\")"
   ]
  },
  {
   "cell_type": "markdown",
   "id": "77b4ef77",
   "metadata": {},
   "source": [
    "Test size = 0.25"
   ]
  },
  {
   "cell_type": "code",
   "execution_count": 20,
   "id": "7557b23d",
   "metadata": {},
   "outputs": [
    {
     "name": "stdout",
     "output_type": "stream",
     "text": [
      "Test size = 0.25\n",
      "Model Accuracy: 0.8353765323992994\n"
     ]
    }
   ],
   "source": [
    "train_df, test_df = df.randomSplit([0.75, 0.25], seed=42)\n",
    "# Initialize and train the decision tree classifier\n",
    "dt = DecisionTreeClassifier(featuresCol=\"features\", labelCol=\"target\", maxDepth=5)\n",
    "dt_model = dt.fit(train_df)\n",
    "# Make predictions\n",
    "predictions = dt_model.transform(test_df)\n",
    "# Evaluate the model\n",
    "evaluator = MulticlassClassificationEvaluator(labelCol=\"target\", predictionCol=\"prediction\", metricName=\"accuracy\")\n",
    "accuracy = evaluator.evaluate(predictions)\n",
    "print(\"Test size = 0.25\")\n",
    "print(f\"Model Accuracy: {accuracy}\")"
   ]
  },
  {
   "cell_type": "markdown",
   "id": "b0681b99",
   "metadata": {},
   "source": [
    "Test size = 0.4"
   ]
  },
  {
   "cell_type": "code",
   "execution_count": 31,
   "id": "ac41a20a",
   "metadata": {},
   "outputs": [
    {
     "name": "stdout",
     "output_type": "stream",
     "text": [
      "Test size = 0.4\n",
      "Model Accuracy: 0.8338801912440236\n"
     ]
    }
   ],
   "source": [
    "train_df, test_df = df.randomSplit([0.6, 0.4], seed=42)\n",
    "# Initialize and train the decision tree classifier\n",
    "dt = DecisionTreeClassifier(featuresCol=\"features\", labelCol=\"target\", maxDepth=5)\n",
    "dt_model = dt.fit(train_df)\n",
    "# Make predictions\n",
    "predictions = dt_model.transform(test_df)\n",
    "# Evaluate the model\n",
    "evaluator = MulticlassClassificationEvaluator(labelCol=\"target\", predictionCol=\"prediction\", metricName=\"accuracy\")\n",
    "accuracy = evaluator.evaluate(predictions)\n",
    "print(\"Test size = 0.4\")\n",
    "print(f\"Model Accuracy: {accuracy}\")"
   ]
  },
  {
   "cell_type": "markdown",
   "id": "e2acae39",
   "metadata": {},
   "source": [
    "Test size = 0.5"
   ]
  },
  {
   "cell_type": "code",
   "execution_count": 32,
   "id": "369713c8",
   "metadata": {},
   "outputs": [
    {
     "name": "stdout",
     "output_type": "stream",
     "text": [
      "Test size = 0.5\n",
      "Model Accuracy: 0.8346545019443613\n"
     ]
    }
   ],
   "source": [
    "train_df, test_df = df.randomSplit([0.5, 0.5], seed=42)\n",
    "# Initialize and train the decision tree classifier\n",
    "dt = DecisionTreeClassifier(featuresCol=\"features\", labelCol=\"target\", maxDepth=5)\n",
    "dt_model = dt.fit(train_df)\n",
    "# Make predictions\n",
    "predictions = dt_model.transform(test_df)\n",
    "# Evaluate the model\n",
    "evaluator = MulticlassClassificationEvaluator(labelCol=\"target\", predictionCol=\"prediction\", metricName=\"accuracy\")\n",
    "accuracy = evaluator.evaluate(predictions)\n",
    "print(\"Test size = 0.5\")\n",
    "print(f\"Model Accuracy: {accuracy}\")"
   ]
  },
  {
   "cell_type": "markdown",
   "id": "db68c830",
   "metadata": {},
   "source": [
    "8.5.2 Boost C&R Tree algorithm"
   ]
  },
  {
   "cell_type": "code",
   "execution_count": 37,
   "id": "d1d10782",
   "metadata": {},
   "outputs": [
    {
     "name": "stdout",
     "output_type": "stream",
     "text": [
      "Accuracy: 0.8774\n"
     ]
    }
   ],
   "source": [
    "from pyspark.sql import SparkSession\n",
    "from pyspark.ml.feature import StringIndexer, VectorAssembler\n",
    "from pyspark.ml.classification import GBTClassifier\n",
    "from pyspark.ml.evaluation import MulticlassClassificationEvaluator\n",
    "\n",
    "# Initialize Spark session\n",
    "spark = SparkSession.builder \\\n",
    "    .appName(\"GBT Classification\") \\\n",
    "    .getOrCreate()\n",
    "\n",
    "# Load data\n",
    "file_path = \"Vertical Reduction.csv\"\n",
    "df = spark.read.csv(file_path, header=True, inferSchema=True)\n",
    "\n",
    "# Convert target column to numeric\n",
    "indexer = StringIndexer(inputCol=\"Satisfaction\", outputCol=\"target\")\n",
    "df = indexer.fit(df).transform(df)\n",
    "\n",
    "# Combine feature columns\n",
    "feature_columns = df.columns\n",
    "feature_columns.remove(\"Satisfaction\")  # Remove target column\n",
    "feature_columns.remove(\"target\")  # Remove the newly created label column\n",
    "assembler = VectorAssembler(inputCols=feature_columns, outputCol=\"features\")\n",
    "df = assembler.transform(df)\n",
    "\n",
    "# Split data into train and test sets\n",
    "train_df, test_df = df.randomSplit([0.3, 0.7], seed=42)\n",
    "# Train GBT model\n",
    "gbt = GBTClassifier(labelCol=\"target\", featuresCol=\"features\", maxIter=50, seed=42)\n",
    "model = gbt.fit(train_df)\n",
    "# Make predictions\n",
    "predictions = model.transform(test_df)\n",
    "# Evaluate the model\n",
    "evaluator = MulticlassClassificationEvaluator(labelCol=\"target\", predictionCol=\"prediction\", metricName=\"accuracy\")\n",
    "accuracy = evaluator.evaluate(predictions)\n",
    "print(f\"Accuracy: {accuracy:.4f}\")"
   ]
  },
  {
   "cell_type": "code",
   "execution_count": null,
   "id": "5d2c0b2e",
   "metadata": {},
   "outputs": [],
   "source": []
  }
 ],
 "metadata": {
  "kernelspec": {
   "display_name": "Python 3 (ipykernel)",
   "language": "python",
   "name": "python3"
  },
  "language_info": {
   "codemirror_mode": {
    "name": "ipython",
    "version": 3
   },
   "file_extension": ".py",
   "mimetype": "text/x-python",
   "name": "python",
   "nbconvert_exporter": "python",
   "pygments_lexer": "ipython3",
   "version": "3.10.12"
  }
 },
 "nbformat": 4,
 "nbformat_minor": 5
}
